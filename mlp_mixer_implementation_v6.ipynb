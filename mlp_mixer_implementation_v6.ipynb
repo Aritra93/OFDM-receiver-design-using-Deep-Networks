{
  "cells": [
    {
      "cell_type": "code",
      "execution_count": null,
      "metadata": {
        "colab": {
          "base_uri": "https://localhost:8080/"
        },
        "id": "4WcaPUoixvk6",
        "outputId": "994712c1-62e5-4360-b34a-8cc9d7ee67a0"
      },
      "outputs": [
        {
          "output_type": "stream",
          "name": "stdout",
          "text": [
            "Looking in indexes: https://pypi.org/simple, https://us-python.pkg.dev/colab-wheels/public/simple/\n",
            "Collecting einops\n",
            "  Downloading einops-0.5.0-py3-none-any.whl (36 kB)\n",
            "Installing collected packages: einops\n",
            "Successfully installed einops-0.5.0\n"
          ]
        }
      ],
      "source": [
        "pip install einops"
      ]
    },
    {
      "cell_type": "code",
      "execution_count": null,
      "metadata": {
        "colab": {
          "base_uri": "https://localhost:8080/"
        },
        "id": "d5OG_Ae_cMGr",
        "outputId": "dbc907e4-8d6c-409f-80ee-305f50caa966"
      },
      "outputs": [
        {
          "output_type": "stream",
          "name": "stdout",
          "text": [
            "Looking in indexes: https://pypi.org/simple, https://us-python.pkg.dev/colab-wheels/public/simple/\n",
            "Collecting komm\n",
            "  Downloading komm-0.7.1.tar.gz (50 kB)\n",
            "\u001b[K     |████████████████████████████████| 50 kB 3.2 MB/s \n",
            "\u001b[?25hRequirement already satisfied: numpy in /usr/local/lib/python3.7/dist-packages (from komm) (1.21.6)\n",
            "Requirement already satisfied: scipy in /usr/local/lib/python3.7/dist-packages (from komm) (1.7.3)\n",
            "Building wheels for collected packages: komm\n",
            "  Building wheel for komm (setup.py) ... \u001b[?25l\u001b[?25hdone\n",
            "  Created wheel for komm: filename=komm-0.7.1-py3-none-any.whl size=56608 sha256=c40bf6fe9ffa270d79a7fc34e6719ff29712402cf3536e155c40360f380410f3\n",
            "  Stored in directory: /root/.cache/pip/wheels/67/d6/14/a8e4b0235b3dc3c8a28c4e2059b66ad5b8c262df15df54f843\n",
            "Successfully built komm\n",
            "Installing collected packages: komm\n",
            "Successfully installed komm-0.7.1\n"
          ]
        }
      ],
      "source": [
        "pip install komm"
      ]
    },
    {
      "cell_type": "code",
      "execution_count": null,
      "metadata": {
        "colab": {
          "base_uri": "https://localhost:8080/"
        },
        "id": "WPk8rWyg9bUg",
        "outputId": "74326b2c-abe0-45d7-819b-7a0e65697e2c"
      },
      "outputs": [
        {
          "output_type": "stream",
          "name": "stdout",
          "text": [
            "Mounted at /content/drive\n"
          ]
        }
      ],
      "source": [
        "from google.colab import drive\n",
        "drive.mount('/content/drive')"
      ]
    },
    {
      "cell_type": "code",
      "execution_count": null,
      "metadata": {
        "colab": {
          "base_uri": "https://localhost:8080/"
        },
        "id": "zqFb0tPalS1l",
        "outputId": "21617d37-fcd5-4b76-ceea-90cb63a74933"
      },
      "outputs": [
        {
          "data": {
            "text/plain": [
              "14.0"
            ]
          },
          "execution_count": 1,
          "metadata": {},
          "output_type": "execute_result"
        }
      ],
      "source": [
        "224/16"
      ]
    },
    {
      "cell_type": "code",
      "execution_count": null,
      "metadata": {
        "id": "pk22LS7RxBP0"
      },
      "outputs": [],
      "source": [
        "import torch\n",
        "import numpy as np\n",
        "from torch import nn\n",
        "from einops.layers.torch import Rearrange\n",
        "\n",
        "import torchvision\n",
        "from torchvision import transforms\n",
        "import os\n",
        "from tqdm import tqdm\n",
        "import torch.optim as optim\n",
        "\n",
        "import datetime\n",
        "import os, sys\n",
        "import scipy.io as sio\n",
        "import matplotlib.pyplot as plt\n",
        "from sklearn import preprocessing\n",
        "from torch.utils.data import DataLoader\n",
        "import komm\n",
        "from torch.nn.functional import normalize"
      ]
    },
    {
      "cell_type": "code",
      "execution_count": null,
      "metadata": {
        "id": "VwhOK3VmDqcK"
      },
      "outputs": [],
      "source": [
        "obj = komm.QAModulation(16, base_amplitudes=1)\n",
        "obj_QPSK = komm.PSKModulation(4,amplitude=1,phase_offset=np.pi/4)"
      ]
    },
    {
      "cell_type": "code",
      "execution_count": null,
      "metadata": {
        "id": "Urqdk0ygxzdg"
      },
      "outputs": [],
      "source": [
        "class FeedForward(nn.Module):\n",
        "    def __init__(self,ConvTranspose2d dim, hidden_dim, dropout = 0.):\n",
        "        super().__init__()\n",
        "        self.net = nn.Sequential(\n",
        "            nn.Linear(dim, hidden_dim),\n",
        "            nn.GELU(),\n",
        "            nn.Dropout(dropout),\n",
        "            nn.Linear(hidden_dim, dim),\n",
        "            nn.Dropout(dropout)\n",
        "        )\n",
        "    def forward(self, x):\n",
        "        return self.net(x)"
      ]
    },
    {
      "cell_type": "code",
      "execution_count": null,
      "metadata": {
        "id": "VlUSTfAKyU2i"
      },
      "outputs": [],
      "source": [
        "class MixerBlock(nn.Module):\n",
        "\n",
        "    def __init__(self, dim, num_patch, token_dim, channel_dim, dropout = 0.):\n",
        "        super().__init__()\n",
        "\n",
        "        self.token_mix = nn.Sequential(\n",
        "            nn.LayerNorm(dim),\n",
        "            Rearrange('b n d -> b d n'),\n",
        "            FeedForward(num_patch, token_dim, dropout),\n",
        "            Rearrange('b d n -> b n d')\n",
        "        )\n",
        "\n",
        "        self.channel_mix = nn.Sequential(\n",
        "            nn.LayerNorm(dim),\n",
        "            FeedForward(dim, channel_dim, dropout),\n",
        "        )\n",
        "\n",
        "    def forward(self, x):\n",
        "\n",
        "        x = x + self.token_mix(x)\n",
        "\n",
        "        x = x + self.channel_mix(x)\n",
        "\n",
        "        return x"
      ]
    },
    {
      "cell_type": "code",
      "execution_count": null,
      "metadata": {
        "id": "qw2a4TsYydTB"
      },
      "outputs": [],
      "source": [
        "class MLPMixer(nn.Module):\n",
        "\n",
        "    def __init__(self, in_channels, dim, num_classes, patch_size, image_size, depth, token_dim, channel_dim):\n",
        "        super().__init__()\n",
        "\n",
        "        assert image_size % patch_size == 0, 'Image dimensions must be divisible by the patch size.'\n",
        "        self.num_patch =  (image_size// patch_size) ** 2\n",
        "        self.to_patch_embedding = nn.Sequential(\n",
        "            nn.Conv2d(in_channels, dim, patch_size, patch_size),\n",
        "            Rearrange('b c h w -> b (h w) c'),\n",
        "        )\n",
        "\n",
        "        self.mixer_blocks = nn.ModuleList([])\n",
        "\n",
        "        for _ in range(depth):\n",
        "            self.mixer_blocks.append(MixerBlock(dim, self.num_patch, token_dim, channel_dim))\n",
        "\n",
        "        self.layer_norm = nn.LayerNorm(dim)\n",
        "\n",
        "        self.mlp_head = nn.Sequential(\n",
        "            nn.Linear(dim, num_classes)\n",
        "        )\n",
        "\n",
        "    def forward(self, x):\n",
        "\n",
        "\n",
        "        x = self.to_patch_embedding(x)\n",
        "\n",
        "        for mixer_block in self.mixer_blocks:\n",
        "            x = mixer_block(x)\n",
        "\n",
        "        x = self.layer_norm(x)\n",
        "\n",
        "        x = x.mean(dim=1)\n",
        "\n",
        "        return self.mlp_head(x)"
      ]
    },
    {
      "cell_type": "code",
      "execution_count": null,
      "metadata": {
        "colab": {
          "base_uri": "https://localhost:8080/"
        },
        "id": "TRvUIw0wyooh",
        "outputId": "f4952b86-fd89-439a-81be-49bbda86878a"
      },
      "outputs": [
        {
          "name": "stdout",
          "output_type": "stream",
          "text": [
            "Trainable Parameters: 18.528M\n",
            "Shape of out : torch.Size([1, 1000])\n"
          ]
        }
      ],
      "source": [
        "if __name__ == \"__main__\":\n",
        "    img = torch.ones([1, 3, 224, 224])\n",
        "\n",
        "    model = MLPMixer(in_channels=3, image_size=224, patch_size=16, num_classes=1000,\n",
        "                     dim=512, depth=8, token_dim=256, channel_dim=2048)\n",
        "\n",
        "    parameters = filter(lambda p: p.requires_grad, model.parameters())\n",
        "    parameters = sum([np.prod(p.size()) for p in parameters]) / 1_000_000\n",
        "    print('Trainable Parameters: %.3fM' % parameters)\n",
        "\n",
        "    out_img = model(img)\n",
        "\n",
        "    print(\"Shape of out :\", out_img.shape)  # [B, in_channels, image_size, image_size]"
      ]
    },
    {
      "cell_type": "code",
      "execution_count": null,
      "metadata": {
        "colab": {
          "base_uri": "https://localhost:8080/",
          "height": 150,
          "referenced_widgets": [
            "05349769010946e69f11d77435e0916a",
            "4a7d2111880b4b5ba42b9f59ec270921",
            "d668df1d065c41b9933f704694e56616",
            "3e39a5cfda6a4498b6493ed4f7296118",
            "a949fce576d94f688a19a796cb1414ff",
            "1bed3c880ea6424184a3da3a7c84bfa6",
            "eb28ce6c02d843ca91cd92199c9a8d92",
            "fb444ef3e0db4589a71551bd39556247",
            "4e3b88adac4b4ff89a883384e17504f1",
            "1ffd7658be304a4b811d993b96ae4b1b",
            "f6ef72a357c74c35afaf750e3001fedf",
            "cf81c5c0a79b456a9532c7684b1c3623",
            "87d3f1c29ac54857864930c9ece0b105",
            "2b795dfa99c04b7997652657a91a5c98",
            "a85a16910efd40998cc247eeaf0d0019",
            "126d37e365d04e358ab994982fbb67c7",
            "1ae2d33e006948b59977e249cc2bec30",
            "166dc21e96504f30bc1dca9feb0db627",
            "38354648ce9349cc835955a6af99ff50",
            "bf2120ef056b490ea2f5fbb4049d7530",
            "3874ac7e6b0847b89b34d3b31ea1055f",
            "f07c2b6c9bc94e2aa7c35d051b63a681"
          ]
        },
        "id": "RVBmMNL11vvg",
        "outputId": "8e1a9f7a-7a79-493d-d795-36e80b130af8"
      },
      "outputs": [
        {
          "name": "stdout",
          "output_type": "stream",
          "text": [
            "Downloading https://www.cs.toronto.edu/~kriz/cifar-10-python.tar.gz to traindata/cifar-10-python.tar.gz\n"
          ]
        },
        {
          "data": {
            "application/vnd.jupyter.widget-view+json": {
              "model_id": "05349769010946e69f11d77435e0916a",
              "version_major": 2,
              "version_minor": 0
            },
            "text/plain": [
              "  0%|          | 0/170498071 [00:00<?, ?it/s]"
            ]
          },
          "metadata": {},
          "output_type": "display_data"
        },
        {
          "name": "stdout",
          "output_type": "stream",
          "text": [
            "Extracting traindata/cifar-10-python.tar.gz to traindata/\n",
            "Downloading https://www.cs.toronto.edu/~kriz/cifar-10-python.tar.gz to testdata/cifar-10-python.tar.gz\n"
          ]
        },
        {
          "data": {
            "application/vnd.jupyter.widget-view+json": {
              "model_id": "cf81c5c0a79b456a9532c7684b1c3623",
              "version_major": 2,
              "version_minor": 0
            },
            "text/plain": [
              "  0%|          | 0/170498071 [00:00<?, ?it/s]"
            ]
          },
          "metadata": {},
          "output_type": "display_data"
        },
        {
          "name": "stdout",
          "output_type": "stream",
          "text": [
            "Extracting testdata/cifar-10-python.tar.gz to testdata/\n"
          ]
        }
      ],
      "source": [
        "# Image resize 256\n",
        "transform256 = transforms.Compose([\n",
        "            transforms.Resize(256),\n",
        "            transforms.CenterCrop(224),\n",
        "            transforms.ToTensor(),\n",
        "            transforms.Normalize(\n",
        "                mean=[0.485, 0.456, 0.406],\n",
        "                std=[0.229, 0.224, 0.225]\n",
        "            )\n",
        "        ])\n",
        "\n",
        "# training set\n",
        "\n",
        "trainset = torchvision.datasets.CIFAR10(root='traindata/', train=True,\n",
        "                                        download=True, transform=transform256)\n",
        "trainloader = torch.utils.data.DataLoader(trainset, batch_size=128,\n",
        "                                          shuffle=True, num_workers=2)\n",
        "# test set\n",
        "testset = torchvision.datasets.CIFAR10(root='testdata/', train=False,\n",
        "                                       download=True, transform=transform256)\n",
        "testloader = torch.utils.data.DataLoader(testset, batch_size=128,\n",
        "                                         shuffle=False, num_workers=2)\n",
        "# cifar classes\n",
        "classes = ('plane', 'car', 'bird', 'cat',\n",
        "           'deer', 'dog', 'frog', 'horse', 'ship', 'truck')"
      ]
    },
    {
      "cell_type": "code",
      "execution_count": null,
      "metadata": {
        "id": "7VDfOk_CNxsu"
      },
      "outputs": [],
      "source": [
        "# MLP Mixer\n",
        "mixer_model = MLPMixer(in_channels=3, \n",
        "                image_size=224, \n",
        "                patch_size=16, \n",
        "                num_classes=10,\n",
        "                dim=512, \n",
        "                depth=8, \n",
        "                token_dim=256, \n",
        "                channel_dim=2048)\n",
        "device = torch.device(\"cuda:0\" if torch.cuda.is_available() else \"cpu\")\n",
        "mixer_model.to(torch.device(device))\n",
        "batch_size = 64\n",
        "lr = 3e-4\n",
        "n_epochs = 10"
      ]
    },
    {
      "cell_type": "code",
      "execution_count": null,
      "metadata": {
        "id": "24lGvp4xJP8F"
      },
      "outputs": [],
      "source": []
    },
    {
      "cell_type": "code",
      "execution_count": null,
      "metadata": {
        "id": "L8NdQu5eOMge"
      },
      "outputs": [],
      "source": [
        "for i, data in enumerate(trainloader, 0):\n",
        "    inputs, labels = data\n",
        "    inputs, labels = inputs.to(device), labels.to(device)\n",
        "    print(\"Input:\", inputs.shape)\n",
        "    outputs = mixer_model(inputs)\n",
        "    print(outputs)\n",
        "    #if i == 1:\n",
        "    #    break"
      ]
    },
    {
      "cell_type": "code",
      "execution_count": null,
      "metadata": {
        "id": "sQrfpgdQXuFb"
      },
      "outputs": [],
      "source": [
        "optimizer = torch.optim.Adam(mixer_model.parameters(), lr=lr)\n",
        "loss_fn = nn.CrossEntropyLoss()\n",
        "def get_accuracy(preds, y):\n",
        "    preds = preds.argmax(dim=1, keepdim=True)\n",
        "    correct = preds.squeeze(1).eq(y)\n",
        "    acc = correct.sum() / torch.FloatTensor([y.shape[0]]).to(device)\n",
        "    return acc"
      ]
    },
    {
      "cell_type": "code",
      "execution_count": null,
      "metadata": {
        "id": "ynrNqwiTYmaI"
      },
      "outputs": [],
      "source": [
        "def loop(net, loader, is_train):\n",
        "    net.train(is_train)\n",
        "    losses = []\n",
        "    accs = []\n",
        "    pbar = tqdm(loader, total=len(loader))\n",
        "    for x, y in pbar:\n",
        "        x = x.to(device)\n",
        "        y = y.to(device)\n",
        "        with torch.set_grad_enabled(is_train):\n",
        "            preds = net(x)\n",
        "            loss = loss_fn(preds, y)\n",
        "            acc = get_accuracy(preds, y)\n",
        "            losses.append(loss.item())\n",
        "            accs.append(acc.item())\n",
        "        if is_train:\n",
        "            optimizer.zero_grad()\n",
        "            loss.backward()\n",
        "            optimizer.step()\n",
        "        pbar.set_description(f'epoch={epoch}, train={int(is_train)}')\n",
        "        pbar.set_postfix(loss=f'{np.mean(losses):.4f}', acc=f'{np.mean(accs):.4f}')"
      ]
    },
    {
      "cell_type": "code",
      "execution_count": null,
      "metadata": {
        "id": "PvaOkPP8cTG1"
      },
      "outputs": [],
      "source": [
        "for epoch in range(n_epochs):\n",
        "    loop(mixer_model, trainloader, True)\n",
        "    loop(mixer_model, testloader, False)"
      ]
    },
    {
      "cell_type": "code",
      "execution_count": null,
      "metadata": {
        "id": "rEGIsEJ032rV"
      },
      "outputs": [],
      "source": [
        "class NN_feedforward(nn.Module):\n",
        "    def __init__(self, dim, hidden_dim, dropout = 0.):\n",
        "        super().__init__()\n",
        "        self.net = nn.Sequential(\n",
        "            nn.Linear(dim, hidden_dim),\n",
        "            nn.LeakyReLU(0.5),\n",
        "            #nn.Dropout(dropout),\n",
        "            #nn.Linear(hidden_dim,hidden_dim),\n",
        "            #nn.GELU(),#nn.LeakyReLU(0.3),\n",
        "            nn.Linear(hidden_dim, dim),\n",
        "            nn.LeakyReLU(0.5),\n",
        "            #nn.Dropout(dropout)\n",
        "        )\n",
        "    def forward(self, x):\n",
        "        return self.net(x)"
      ]
    },
    {
      "cell_type": "code",
      "execution_count": null,
      "metadata": {
        "id": "QVlZIcwS4vBo"
      },
      "outputs": [],
      "source": [
        "class Patching_network(nn.Module):\n",
        "    def __init__(self,patch_size):\n",
        "        super().__init__()\n",
        "        self.patch_net = nn.Sequential(\n",
        "            nn.Conv1d(2,16,patch_size,patch_size)\n",
        "        )\n",
        "    def forward(self,x):\n",
        "        x = self.patch_net(x)\n",
        "        return x"
      ]
    },
    {
      "cell_type": "code",
      "execution_count": null,
      "metadata": {
        "id": "vmVGoxFh3jTp"
      },
      "outputs": [],
      "source": [
        "class CustomMixerBlock(nn.Module):\n",
        "\n",
        "    def __init__(self, dim, num_patch, token_dim, channel_dim, dropout = 0.2):\n",
        "        super().__init__()\n",
        "\n",
        "        self.token_mix = nn.Sequential(\n",
        "            nn.LayerNorm(dim),\n",
        "            Rearrange('b n h w -> b h w n'),\n",
        "            NN_feedforward(num_patch, token_dim, dropout),\n",
        "            Rearrange('b h w n -> b n h w')\n",
        "        )\n",
        "\n",
        "        self.channel_mix = nn.Sequential(\n",
        "            nn.LayerNorm(dim),\n",
        "            NN_feedforward(dim, channel_dim, dropout),\n",
        "        )\n",
        "\n",
        "    def forward(self, x):\n",
        "\n",
        "        #x = x + self.token_mix(x)\n",
        "\n",
        "        x = x + self.channel_mix(x)\n",
        "\n",
        "        return x"
      ]
    },
    {
      "cell_type": "code",
      "execution_count": null,
      "metadata": {
        "id": "RXSrNGKVwXwA"
      },
      "outputs": [],
      "source": [
        "images =np.random.randn(32,12, 16)\n",
        "images = images.astype(np.float32)\n",
        "dataload = DataLoader(dataset=images, batch_size=8, shuffle=False)"
      ]
    },
    {
      "cell_type": "code",
      "execution_count": null,
      "metadata": {
        "id": "Ko_5TcENxLfo"
      },
      "outputs": [],
      "source": [
        "\n",
        "#mixer_block = CustomMixerBlock(dim=16,num_patch=12,token_dim=36,channel_dim=64)\n",
        "#nn_ff = NN_feedforward(dim=16,hidden_dim=64)\n",
        "#for img in dataload:\n",
        "#    #Rearrange('b n d -> b d n')\n",
        "#    y = nn_ff(img)\n",
        "#    print(y.shape)\n",
        "#    break"
      ]
    },
    {
      "cell_type": "code",
      "execution_count": null,
      "metadata": {
        "id": "mUp_nXXg5p3o"
      },
      "outputs": [],
      "source": [
        "class CustomMLPMixer(nn.Module):\n",
        "\n",
        "    def __init__(self, in_channels, dim, patch_size, image_size, depth, token_dim, channel_dim):\n",
        "        super().__init__()\n",
        "\n",
        "        assert image_size % patch_size == 0, 'Image dimensions must be divisible by the patch size.'\n",
        "        self.num_patch =  (image_size// patch_size) # removing the squaring the factor as this is already one dimensional patch data at core.\n",
        "        self.to_patch_embedding = nn.Sequential(\n",
        "            nn.Conv2d(in_channels, dim, (patch_size,2), patch_size),\n",
        "            Rearrange('b c h w -> b h w c'),\n",
        "        )\n",
        "\n",
        "        self.mixer_blocks = nn.ModuleList([])\n",
        "\n",
        "        for _ in range(depth):\n",
        "            self.mixer_blocks.append(CustomMixerBlock(dim, self.num_patch, token_dim, channel_dim))\n",
        "\n",
        "        self.layer_norm = nn.LayerNorm(dim)\n",
        "        self.deconv_layer = nn.Sequential(\n",
        "            Rearrange('b h w c -> b c h w'),\n",
        "            nn.ConvTranspose2d(in_channels=dim, out_channels=1,kernel_size=(patch_size,2), stride=patch_size),\n",
        "            nn.Tanh()\n",
        "        )\n",
        "\n",
        "\n",
        "        self.mlp_head = nn.Sequential(\n",
        "            nn.Linear(dim, image_size)\n",
        "        )\n",
        "\n",
        "    def forward(self, x):\n",
        "\n",
        "\n",
        "        x = self.to_patch_embedding(x)\n",
        "\n",
        "        for mixer_block in self.mixer_blocks:\n",
        "            x = mixer_block(x)\n",
        "\n",
        "        x_prev = self.layer_norm(x)\n",
        "        x = self.deconv_layer(x_prev)\n",
        "\n",
        "        x = x[:,0,:,0] + 1j*x[:,0,:,1]\n",
        "\n",
        "        #x = x.mean(dim=1)\n",
        "        return x\n",
        "\n",
        "        #return self.mlp_head(x)"
      ]
    },
    {
      "cell_type": "code",
      "execution_count": null,
      "metadata": {
        "id": "ap0rJKpe_HIV"
      },
      "outputs": [],
      "source": [
        "device = torch.device(\"cuda:0\" if torch.cuda.is_available() else \"cpu\")\n",
        "load_data = sio.loadmat('/content/drive/MyDrive/IQ_sample_data/GAN_QPSK_data/NewQPSKdata/QPSK_rx_symbols.mat')\n",
        "load_orig_data_dist = sio.loadmat('/content/drive/MyDrive/IQ_sample_data/GAN_QPSK_data/NewQPSKdata/QPSK_rx_symbol_labels.mat')\n",
        "\n",
        "load_test_data = sio.loadmat('/content/drive/MyDrive/IQ_sample_data/GAN_QPSK_data/NewQPSKdata/QPSK_rx_symbols_test.mat')\n",
        "load_orig_test_data_dist = sio.loadmat('/content/drive/MyDrive/IQ_sample_data/GAN_QPSK_data/NewQPSKdata/QPSK_rx_symbol_labels_test.mat')\n",
        "\n",
        "\n",
        "load_bits = sio.loadmat('/content/drive/MyDrive/IQ_sample_data/GAN_QPSK_data/THz_dat/trainbits_qpsk.mat')\n",
        "\n",
        "#-------------------------------\n",
        "\n",
        "orig_data = load_orig_data_dist['rx_symbol_labels']\n",
        "data = load_data['rx_symbols']\n",
        "\n",
        "#-------------------------------\n",
        "\n",
        "orig_test_data = load_orig_test_data_dist['rx_symbol_labels']\n",
        "test_data = load_test_data['rx_symbols']\n",
        "\n",
        "#-------------------------------\n",
        "\n",
        "orig_bits = load_bits['trainbits']\n",
        "\n",
        "#n_symbols = data.shape[1]\n",
        "#n_symbols_chosen = 10000\n",
        "\n",
        "#idx = np.random.choice(n_symbols,n_symbols_chosen,replace=False) #randomly choosing indexes to reduce load on RAM\n",
        "\n",
        "#data = data[:,idx]\n",
        "#orig_data = orig_data[:,idx]\n",
        "idx1 = np.arange(0,96,2)\n",
        "idx2 = np.arange(1,96,2)\n",
        "\n",
        "#orig_data = orig_data[0:48,:] + 1j*orig_data[48:,:]\n",
        "\n",
        "# the data is in 48 x N format\n",
        "#train test split\n",
        "split_idx = 13440#int(0.8*data.shape[1]) #approximating index for a 80:20 split so that it is divisible by 20(# of packets)\n",
        "\n",
        "#Spliting as train and testing data\n",
        "x_train = data#[:,0:split_idx]\n",
        "x_test = test_data#[:,split_idx:]\n",
        "\n",
        "#Transposing to N x 48 format\n",
        "x_train = np.transpose(x_train)\n",
        "x_test = np.transpose(x_test)\n",
        "\n",
        "noisy_data = np.zeros([x_train.shape[0],1,48,2]) #Data preparation for Convolutional Neural network\n",
        "noisy_data[:,0,:,0] = np.real(x_train[:,0:48])\n",
        "noisy_data[:,0,:,1] = np.imag(x_train[:,0:48])\n",
        "noisy_data = noisy_data.astype(np.float32)\n",
        "\n",
        "\n",
        "noisy_test_data = np.zeros([x_test.shape[0],1,48,2]) #Test Data preparation for Convolutional Neural network\n",
        "noisy_test_data[:,0,:,0] = np.real(x_test[:,0:48])\n",
        "noisy_test_data[:,0,:,1] = np.imag(x_test[:,0:48])\n",
        "noisy_test_data = noisy_test_data.astype(np.float32)\n",
        "#Reshaping as (Nx12) x 4 format so that the network receives 4 symbols\n",
        "#x_train = x_train.reshape(-1,4)\n",
        "#x_test = x_test.reshape(-1,4) \n",
        "\n",
        "#x_train = np.matlib.repmat(x_train, 1, 6)\n",
        "#x_test = np.matlib.repmat(x_test, 1, 6)\n",
        "\n",
        "\n",
        "#.......................................#\n",
        "train_labels = orig_data#[:,0:split_idx]\n",
        "test_labels = orig_test_data#[:,split_idx:]\n",
        "\n",
        "train_labels = np.transpose(train_labels)\n",
        "test_labels = np.transpose(test_labels)\n",
        "\n",
        "\n",
        "clean_data = np.zeros([train_labels.shape[0],1,2*train_labels.shape[1]])\n",
        "clean_data[:,0,idx1] = np.real(train_labels)\n",
        "clean_data[:,0,idx2] = np.imag(train_labels)\n",
        "clean_data = clean_data.astype(np.float32)\n",
        "\n",
        "clean_test_data = np.zeros([test_labels.shape[0],1,2*test_labels.shape[1]])\n",
        "clean_test_data[:,0,idx1] = np.real(test_labels)\n",
        "clean_test_data[:,0,idx2] = np.imag(test_labels)\n",
        "clean_test_data = clean_test_data.astype(np.float32)\n",
        "\n",
        "#train_labels = train_labels.reshape(-1,4)\n",
        "#test_labels = test_labels.reshape(-1,4)\n",
        "\n",
        "#train_labels = np.matlib.repmat(train_labels, 1, 6)\n",
        "#test_labels = np.matlib.repmat(test_labels, 1, 6)\n",
        "#.......................................#\n",
        "\n",
        "tensor_x = torch.tensor(x_train, dtype=torch.complex64, device=device)\n",
        "test_x = torch.tensor(x_test, dtype=torch.complex64, device=device)\n",
        "\n",
        "train_labels_tensor = torch.tensor(train_labels, dtype=torch.complex64, device=device)\n",
        "test_labels_tensor = torch.tensor(test_labels, dtype=torch.complex64, device=device)\n",
        "\n",
        "#--------------------------------#\n",
        "\n",
        "noisy_train_data_loader = DataLoader(dataset=noisy_data, batch_size=20, shuffle=False)\n",
        "clean_train_data_loader = DataLoader(dataset=train_labels_tensor, batch_size=20, shuffle=False)\n",
        "\n",
        "noisy_test_data_loader = DataLoader(dataset=noisy_test_data, batch_size=20, shuffle=False)\n",
        "clean_test_data_loader = DataLoader(dataset=test_labels_tensor, batch_size=20, shuffle=False)\n",
        "\n",
        "#--------------------------------#"
      ]
    },
    {
      "cell_type": "code",
      "source": [
        "test_noisy_data_tensor = torch.tensor(noisy_test_data, dtype=torch.float32, device=device)\n",
        "#noisy_test_data"
      ],
      "metadata": {
        "id": "GMfRhYmSv71L"
      },
      "execution_count": null,
      "outputs": []
    },
    {
      "cell_type": "code",
      "execution_count": null,
      "metadata": {
        "colab": {
          "base_uri": "https://localhost:8080/"
        },
        "id": "4veAcMymnjYP",
        "outputId": "4cfa8c27-e2ef-48ba-e479-6bc87559882e"
      },
      "outputs": [
        {
          "output_type": "stream",
          "name": "stdout",
          "text": [
            "(13440, 1, 96)\n",
            "(3380, 1, 96)\n"
          ]
        }
      ],
      "source": [
        "print(noisy_data.shape)\n",
        "print(noisy_test_data.shape)"
      ]
    },
    {
      "cell_type": "code",
      "execution_count": null,
      "metadata": {
        "colab": {
          "base_uri": "https://localhost:8080/"
        },
        "id": "Lis9lbGWqXTT",
        "outputId": "abf2253b-e3a8-475e-f488-beab51331224"
      },
      "outputs": [
        {
          "data": {
            "text/plain": [
              "86760"
            ]
          },
          "execution_count": 8,
          "metadata": {},
          "output_type": "execute_result"
        }
      ],
      "source": [
        "dataset_size"
      ]
    },
    {
      "cell_type": "code",
      "execution_count": null,
      "metadata": {
        "id": "OIIAzVCcCbfy"
      },
      "outputs": [],
      "source": [
        "patch_size = 8\n",
        "\n",
        "#p_net = Patching_network(patch_size=patch_size)\n",
        "mixer_net = CustomMLPMixer(in_channels=1,dim=32,patch_size=1,image_size=48,depth=5,token_dim=16,channel_dim=256).to(device)\n",
        "#optimD = optim.Adam([{'params': p_net.parameters()}], lr=1e-4, betas=(0.5, 0.99))\n",
        "mixer_net_optim = optim.Adam([{'params':mixer_net.parameters()}],lr=1e-3)\n",
        "n_epochs=150\n",
        "loss = nn.MSELoss(reduction='none')#L1Loss(reduce=False)#\n",
        "step = 0\n",
        "def complex_mse(x,y):\n",
        "    ls = loss(x.real,y.real)+1j*loss(x.imag,y.imag)\n",
        "    return abs(ls)"
      ]
    },
    {
      "cell_type": "code",
      "source": [
        "img = torch.ones([20, 1, 48, 2]).to(device)\n",
        "out_img = mixer_net(img)\n",
        "print(\"Shape of out :\", out_img.shape)"
      ],
      "metadata": {
        "colab": {
          "base_uri": "https://localhost:8080/"
        },
        "id": "8cq_v9FKy-dG",
        "outputId": "e778d019-702c-41b0-91b1-2bcfbe35fd6a"
      },
      "execution_count": null,
      "outputs": [
        {
          "output_type": "stream",
          "name": "stdout",
          "text": [
            "Shape of out : torch.Size([20, 48])\n"
          ]
        }
      ]
    },
    {
      "cell_type": "code",
      "execution_count": null,
      "metadata": {
        "id": "lY1t1izsPlZ6"
      },
      "outputs": [],
      "source": [
        "for idx,(x_clean,x_equalize) in enumerate(zip(clean_train_data_loader,noisy_train_data_loader)):\n",
        "    x_clean = x_clean.to(device)\n",
        "    x_equalize = x_equalize.to(device)\n",
        "    y = mixer_net(x_equalize)\n",
        "    mse_loss = loss(y,x_clean)\n",
        "    print(mse_loss)\n",
        "    break"
      ]
    },
    {
      "cell_type": "code",
      "execution_count": null,
      "metadata": {
        "colab": {
          "base_uri": "https://localhost:8080/"
        },
        "id": "wtVp6Ah4P6V7",
        "outputId": "a57caa19-c032-419f-9932-853894a131f2"
      },
      "outputs": [
        {
          "data": {
            "text/plain": [
              "torch.Size([4338, 2, 48])"
            ]
          },
          "execution_count": 17,
          "metadata": {},
          "output_type": "execute_result"
        }
      ],
      "source": [
        "mse_loss.shape"
      ]
    },
    {
      "cell_type": "code",
      "execution_count": null,
      "metadata": {
        "id": "wnSLT70_LwPG",
        "colab": {
          "base_uri": "https://localhost:8080/"
        },
        "outputId": "79bc96e2-7a9e-4078-e090-02f474b948c3"
      },
      "outputs": [
        {
          "output_type": "stream",
          "name": "stdout",
          "text": [
            "Epoch: 0/150, Step: 976, MSE loss: 0.047006854993849656, NN_max loss: 2.063089609146118\n",
            "Epoch: 1/150, Step: 1952, MSE loss: 0.026693277737142692, NN_max loss: 2.1886281967163086\n",
            "Epoch: 2/150, Step: 2928, MSE loss: 0.025390599518493113, NN_max loss: 2.1955747604370117\n",
            "Epoch: 3/150, Step: 3904, MSE loss: 0.024860373648838592, NN_max loss: 2.1221325397491455\n",
            "Epoch: 4/150, Step: 4880, MSE loss: 0.024541241434205597, NN_max loss: 2.018937826156616\n",
            "Epoch: 5/150, Step: 5856, MSE loss: 0.02428495360283675, NN_max loss: 1.9649686813354492\n",
            "Epoch: 6/150, Step: 6832, MSE loss: 0.024063603975905533, NN_max loss: 1.9692869186401367\n",
            "Epoch: 7/150, Step: 7808, MSE loss: 0.02386718534464054, NN_max loss: 1.9827635288238525\n",
            "Epoch: 8/150, Step: 8784, MSE loss: 0.02369974822470452, NN_max loss: 1.9783660173416138\n",
            "Epoch: 9/150, Step: 9760, MSE loss: 0.02356798284078471, NN_max loss: 1.9815059900283813\n",
            "Epoch: 10/150, Step: 10736, MSE loss: 0.023454665644857278, NN_max loss: 1.9931567907333374\n",
            "Epoch: 11/150, Step: 11712, MSE loss: 0.023351427955960433, NN_max loss: 1.993503451347351\n",
            "Epoch: 12/150, Step: 12688, MSE loss: 0.023267209284246047, NN_max loss: 2.0053646564483643\n",
            "Epoch: 13/150, Step: 13664, MSE loss: 0.023198205417947676, NN_max loss: 2.032925844192505\n",
            "Epoch: 14/150, Step: 14640, MSE loss: 0.023137832748175914, NN_max loss: 2.049649715423584\n",
            "Epoch: 15/150, Step: 15616, MSE loss: 0.023079392539605833, NN_max loss: 2.051591396331787\n",
            "Epoch: 16/150, Step: 16592, MSE loss: 0.023023090356550487, NN_max loss: 2.060055732727051\n",
            "Epoch: 17/150, Step: 17568, MSE loss: 0.022969654892643226, NN_max loss: 2.0559163093566895\n",
            "Epoch: 18/150, Step: 18544, MSE loss: 0.022921581292632522, NN_max loss: 2.052563190460205\n",
            "Epoch: 19/150, Step: 19520, MSE loss: 0.022874703603135316, NN_max loss: 2.04679274559021\n",
            "Epoch: 20/150, Step: 20496, MSE loss: 0.02283421378453687, NN_max loss: 2.036180019378662\n",
            "Epoch: 21/150, Step: 21472, MSE loss: 0.022794691674898674, NN_max loss: 2.0278353691101074\n",
            "Epoch: 22/150, Step: 22448, MSE loss: 0.022759842425494142, NN_max loss: 2.0286636352539062\n",
            "Epoch: 23/150, Step: 23424, MSE loss: 0.02272693916744234, NN_max loss: 2.0369598865509033\n",
            "Epoch: 24/150, Step: 24400, MSE loss: 0.02269293587535398, NN_max loss: 2.0348124504089355\n",
            "Epoch: 25/150, Step: 25376, MSE loss: 0.02266655924906676, NN_max loss: 2.0314207077026367\n",
            "Epoch: 26/150, Step: 26352, MSE loss: 0.022642646018798437, NN_max loss: 2.0305466651916504\n",
            "Epoch: 27/150, Step: 27328, MSE loss: 0.022619629207498316, NN_max loss: 2.0301451683044434\n",
            "Epoch: 28/150, Step: 28304, MSE loss: 0.022597931914040855, NN_max loss: 2.0299196243286133\n",
            "Epoch: 29/150, Step: 29280, MSE loss: 0.022577755930123403, NN_max loss: 2.02789568901062\n",
            "Epoch: 30/150, Step: 30256, MSE loss: 0.022558918276076166, NN_max loss: 2.0269646644592285\n",
            "Epoch: 31/150, Step: 31232, MSE loss: 0.02254070611077429, NN_max loss: 2.0260679721832275\n",
            "Epoch: 32/150, Step: 32208, MSE loss: 0.02252436658871833, NN_max loss: 2.0238728523254395\n",
            "Epoch: 33/150, Step: 33184, MSE loss: 0.022510046526095073, NN_max loss: 2.0230820178985596\n",
            "Epoch: 34/150, Step: 34160, MSE loss: 0.022495827390726475, NN_max loss: 2.0211610794067383\n",
            "Epoch: 35/150, Step: 35136, MSE loss: 0.022482588639480324, NN_max loss: 2.0177857875823975\n",
            "Epoch: 36/150, Step: 36112, MSE loss: 0.02246934019116998, NN_max loss: 2.0155272483825684\n",
            "Epoch: 37/150, Step: 37088, MSE loss: 0.022457552091209046, NN_max loss: 2.0125162601470947\n",
            "Epoch: 38/150, Step: 38064, MSE loss: 0.02244598054859893, NN_max loss: 2.0104737281799316\n",
            "Epoch: 39/150, Step: 39040, MSE loss: 0.022435501777755835, NN_max loss: 2.0092835426330566\n",
            "Epoch: 40/150, Step: 40016, MSE loss: 0.022424200085296542, NN_max loss: 2.007200002670288\n",
            "Epoch: 41/150, Step: 40992, MSE loss: 0.022415550819206428, NN_max loss: 2.00514817237854\n",
            "Epoch: 42/150, Step: 41968, MSE loss: 0.022406391649782132, NN_max loss: 2.0026445388793945\n",
            "Epoch: 43/150, Step: 42944, MSE loss: 0.02239627596715482, NN_max loss: 2.0043511390686035\n",
            "Epoch: 44/150, Step: 43920, MSE loss: 0.02238646480508509, NN_max loss: 2.002910614013672\n",
            "Epoch: 45/150, Step: 44896, MSE loss: 0.022379048723754298, NN_max loss: 2.0034139156341553\n",
            "Epoch: 46/150, Step: 45872, MSE loss: 0.022371630036381058, NN_max loss: 2.001286506652832\n",
            "Epoch: 47/150, Step: 46848, MSE loss: 0.022364585076706484, NN_max loss: 2.0008513927459717\n",
            "Epoch: 48/150, Step: 47824, MSE loss: 0.022356782791149034, NN_max loss: 1.9999544620513916\n",
            "Epoch: 49/150, Step: 48800, MSE loss: 0.022350148867398736, NN_max loss: 1.9997608661651611\n",
            "Epoch: 50/150, Step: 49776, MSE loss: 0.02234325324674814, NN_max loss: 1.998086929321289\n",
            "Epoch: 51/150, Step: 50752, MSE loss: 0.022337611478878413, NN_max loss: 1.998260259628296\n",
            "Epoch: 52/150, Step: 51728, MSE loss: 0.022331032523223885, NN_max loss: 1.9971433877944946\n",
            "Epoch: 53/150, Step: 52704, MSE loss: 0.02232537844948269, NN_max loss: 1.9963563680648804\n",
            "Epoch: 54/150, Step: 53680, MSE loss: 0.022319676550159224, NN_max loss: 1.9940111637115479\n",
            "Epoch: 55/150, Step: 54656, MSE loss: 0.02231419784443162, NN_max loss: 1.9940851926803589\n",
            "Epoch: 56/150, Step: 55632, MSE loss: 0.02230886034270371, NN_max loss: 1.9930342435836792\n",
            "Epoch: 57/150, Step: 56608, MSE loss: 0.02230436762318521, NN_max loss: 1.9909957647323608\n",
            "Epoch: 58/150, Step: 57584, MSE loss: 0.022298908176075945, NN_max loss: 1.991324782371521\n",
            "Epoch: 59/150, Step: 58560, MSE loss: 0.022294736728411625, NN_max loss: 1.9892659187316895\n",
            "Epoch: 60/150, Step: 59536, MSE loss: 0.022289857543453254, NN_max loss: 1.9892594814300537\n",
            "Epoch: 61/150, Step: 60512, MSE loss: 0.022285122469008305, NN_max loss: 1.9885083436965942\n",
            "Epoch: 62/150, Step: 61488, MSE loss: 0.022280591253421023, NN_max loss: 1.9882111549377441\n",
            "Epoch: 63/150, Step: 62464, MSE loss: 0.022276304079023007, NN_max loss: 1.9872498512268066\n",
            "Epoch: 64/150, Step: 63440, MSE loss: 0.022271974309610115, NN_max loss: 1.9864957332611084\n",
            "Epoch: 65/150, Step: 64416, MSE loss: 0.02226798454389968, NN_max loss: 1.9864224195480347\n",
            "Epoch: 66/150, Step: 65392, MSE loss: 0.02226380085095222, NN_max loss: 1.985982894897461\n",
            "Epoch: 67/150, Step: 66368, MSE loss: 0.02225962419048407, NN_max loss: 1.984939455986023\n",
            "Epoch: 68/150, Step: 67344, MSE loss: 0.022255499815218335, NN_max loss: 1.9846646785736084\n",
            "Epoch: 69/150, Step: 68320, MSE loss: 0.022251370140955514, NN_max loss: 1.9845458269119263\n",
            "Epoch: 70/150, Step: 69296, MSE loss: 0.022247627870526088, NN_max loss: 1.9841649532318115\n",
            "Epoch: 71/150, Step: 70272, MSE loss: 0.02224416413887402, NN_max loss: 1.9844621419906616\n",
            "Epoch: 72/150, Step: 71248, MSE loss: 0.022240538636353568, NN_max loss: 1.98343026638031\n",
            "Epoch: 73/150, Step: 72224, MSE loss: 0.022236831591065827, NN_max loss: 1.983672022819519\n",
            "Epoch: 74/150, Step: 73200, MSE loss: 0.022233441694372334, NN_max loss: 1.984290599822998\n",
            "Epoch: 75/150, Step: 74176, MSE loss: 0.02223056942025752, NN_max loss: 1.98349130153656\n",
            "Epoch: 76/150, Step: 75152, MSE loss: 0.022226903142586615, NN_max loss: 1.9842956066131592\n",
            "Epoch: 77/150, Step: 76128, MSE loss: 0.022223585411417328, NN_max loss: 1.9836041927337646\n",
            "Epoch: 78/150, Step: 77104, MSE loss: 0.02222014674150959, NN_max loss: 1.9843536615371704\n",
            "Epoch: 79/150, Step: 78080, MSE loss: 0.02221749043647026, NN_max loss: 1.9836491346359253\n",
            "Epoch: 80/150, Step: 79056, MSE loss: 0.02221379274275241, NN_max loss: 1.9842939376831055\n",
            "Epoch: 81/150, Step: 80032, MSE loss: 0.02221070445165942, NN_max loss: 1.9850926399230957\n",
            "Epoch: 82/150, Step: 81008, MSE loss: 0.02220797822029327, NN_max loss: 1.9842523336410522\n",
            "Epoch: 83/150, Step: 81984, MSE loss: 0.02220477521935341, NN_max loss: 1.984334945678711\n",
            "Epoch: 84/150, Step: 82960, MSE loss: 0.022202068058780028, NN_max loss: 1.9850314855575562\n",
            "Epoch: 85/150, Step: 83936, MSE loss: 0.022199218293666653, NN_max loss: 1.9844578504562378\n",
            "Epoch: 86/150, Step: 84912, MSE loss: 0.02219635779844801, NN_max loss: 1.984387993812561\n",
            "Epoch: 87/150, Step: 85888, MSE loss: 0.022193542041298905, NN_max loss: 1.9844517707824707\n",
            "Epoch: 88/150, Step: 86864, MSE loss: 0.0221908471209475, NN_max loss: 1.9848535060882568\n",
            "Epoch: 89/150, Step: 87840, MSE loss: 0.022188227488155635, NN_max loss: 1.9845190048217773\n",
            "Epoch: 90/150, Step: 88816, MSE loss: 0.022185648733755378, NN_max loss: 1.9849220514297485\n",
            "Epoch: 91/150, Step: 89792, MSE loss: 0.022183135957428463, NN_max loss: 1.9844763278961182\n",
            "Epoch: 92/150, Step: 90768, MSE loss: 0.022180493364446108, NN_max loss: 1.984796404838562\n",
            "Epoch: 93/150, Step: 91744, MSE loss: 0.022178178041172704, NN_max loss: 1.9844591617584229\n",
            "Epoch: 94/150, Step: 92720, MSE loss: 0.02217557274743796, NN_max loss: 1.9841562509536743\n",
            "Epoch: 95/150, Step: 93696, MSE loss: 0.022173324217150268, NN_max loss: 1.9848300218582153\n",
            "Epoch: 96/150, Step: 94672, MSE loss: 0.022170791661279346, NN_max loss: 1.9842891693115234\n",
            "Epoch: 97/150, Step: 95648, MSE loss: 0.022167993789684145, NN_max loss: 1.9834920167922974\n",
            "Epoch: 98/150, Step: 96624, MSE loss: 0.022166297550484625, NN_max loss: 1.9839473962783813\n",
            "Epoch: 99/150, Step: 97600, MSE loss: 0.022163811759827654, NN_max loss: 1.9845075607299805\n",
            "Epoch: 100/150, Step: 98576, MSE loss: 0.02216214542299261, NN_max loss: 1.984237551689148\n",
            "Epoch: 101/150, Step: 99552, MSE loss: 0.02215972269394974, NN_max loss: 1.985173225402832\n",
            "Epoch: 102/150, Step: 100528, MSE loss: 0.022158349789822483, NN_max loss: 1.9844746589660645\n",
            "Epoch: 103/150, Step: 101504, MSE loss: 0.022156151279335932, NN_max loss: 1.9829756021499634\n",
            "Epoch: 104/150, Step: 102480, MSE loss: 0.022152883219198467, NN_max loss: 1.9825149774551392\n",
            "Epoch: 105/150, Step: 103456, MSE loss: 0.022150924958187254, NN_max loss: 1.9835323095321655\n",
            "Epoch: 106/150, Step: 104432, MSE loss: 0.022149022051759996, NN_max loss: 1.9826284646987915\n",
            "Epoch: 107/150, Step: 105408, MSE loss: 0.02214710978977728, NN_max loss: 1.9835494756698608\n",
            "Epoch: 108/150, Step: 106384, MSE loss: 0.022145427180972177, NN_max loss: 1.9843682050704956\n",
            "Epoch: 109/150, Step: 107360, MSE loss: 0.02214432727617706, NN_max loss: 1.9849119186401367\n",
            "Epoch: 110/150, Step: 108336, MSE loss: 0.022142326587927117, NN_max loss: 1.9848716259002686\n",
            "Epoch: 111/150, Step: 109312, MSE loss: 0.022140495792950136, NN_max loss: 1.9854137897491455\n",
            "Epoch: 112/150, Step: 110288, MSE loss: 0.022138681165829364, NN_max loss: 1.9854487180709839\n",
            "Epoch: 113/150, Step: 111264, MSE loss: 0.022136788523586567, NN_max loss: 1.9865031242370605\n",
            "Epoch: 114/150, Step: 112240, MSE loss: 0.022135344078909852, NN_max loss: 1.9870104789733887\n",
            "Epoch: 115/150, Step: 113216, MSE loss: 0.022133504487057365, NN_max loss: 1.987693190574646\n",
            "Epoch: 116/150, Step: 114192, MSE loss: 0.022132044387421678, NN_max loss: 1.9892688989639282\n",
            "Epoch: 117/150, Step: 115168, MSE loss: 0.022131037978140488, NN_max loss: 1.988921880722046\n",
            "Epoch: 118/150, Step: 116144, MSE loss: 0.022128933859897962, NN_max loss: 1.9884579181671143\n",
            "Epoch: 119/150, Step: 117120, MSE loss: 0.022126951960538436, NN_max loss: 1.9883614778518677\n",
            "Epoch: 120/150, Step: 118096, MSE loss: 0.022125608720587286, NN_max loss: 1.9890496730804443\n",
            "Epoch: 121/150, Step: 119072, MSE loss: 0.022124099745686174, NN_max loss: 1.9897606372833252\n",
            "Epoch: 122/150, Step: 120048, MSE loss: 0.022122754507642256, NN_max loss: 1.9902671575546265\n",
            "Epoch: 123/150, Step: 121024, MSE loss: 0.022121269866543992, NN_max loss: 1.9906882047653198\n",
            "Epoch: 124/150, Step: 122000, MSE loss: 0.02211962424193977, NN_max loss: 1.9910240173339844\n",
            "Epoch: 125/150, Step: 122976, MSE loss: 0.022118193170215492, NN_max loss: 1.9951142072677612\n",
            "Epoch: 126/150, Step: 123952, MSE loss: 0.022118582633565167, NN_max loss: 1.9912291765213013\n",
            "Epoch: 127/150, Step: 124928, MSE loss: 0.022116138608276596, NN_max loss: 1.9916685819625854\n",
            "Epoch: 128/150, Step: 125904, MSE loss: 0.022114714632919207, NN_max loss: 1.9917322397232056\n",
            "Epoch: 129/150, Step: 126880, MSE loss: 0.02211299108271296, NN_max loss: 1.9923025369644165\n",
            "Epoch: 130/150, Step: 127856, MSE loss: 0.022111477148873057, NN_max loss: 1.992200255393982\n",
            "Epoch: 131/150, Step: 128832, MSE loss: 0.02210980914174447, NN_max loss: 1.9923490285873413\n",
            "Epoch: 132/150, Step: 129808, MSE loss: 0.02210824811693869, NN_max loss: 1.9924553632736206\n",
            "Epoch: 133/150, Step: 130784, MSE loss: 0.0221068460991452, NN_max loss: 1.9931728839874268\n",
            "Epoch: 134/150, Step: 131760, MSE loss: 0.022105495008912426, NN_max loss: 1.9932079315185547\n",
            "Epoch: 135/150, Step: 132736, MSE loss: 0.022103943267806427, NN_max loss: 1.9936937093734741\n",
            "Epoch: 136/150, Step: 133712, MSE loss: 0.022102584423766034, NN_max loss: 1.9940885305404663\n",
            "Epoch: 137/150, Step: 134688, MSE loss: 0.02210133019937923, NN_max loss: 1.9940851926803589\n",
            "Epoch: 138/150, Step: 135664, MSE loss: 0.02209983032283015, NN_max loss: 1.994168758392334\n",
            "Epoch: 139/150, Step: 136640, MSE loss: 0.022098545796365266, NN_max loss: 1.9944199323654175\n",
            "Epoch: 140/150, Step: 137616, MSE loss: 0.022097051965808016, NN_max loss: 1.99482262134552\n",
            "Epoch: 141/150, Step: 138592, MSE loss: 0.022096162386119302, NN_max loss: 1.9949573278427124\n",
            "Epoch: 142/150, Step: 139568, MSE loss: 0.022094727667450565, NN_max loss: 1.9952048063278198\n",
            "Epoch: 143/150, Step: 140544, MSE loss: 0.02209362929566724, NN_max loss: 1.997732400894165\n",
            "Epoch: 144/150, Step: 141520, MSE loss: 0.02209356775377149, NN_max loss: 1.9955790042877197\n",
            "Epoch: 145/150, Step: 142496, MSE loss: 0.022091727913162187, NN_max loss: 1.9952893257141113\n",
            "Epoch: 146/150, Step: 143472, MSE loss: 0.022090536156190083, NN_max loss: 1.9957797527313232\n",
            "Epoch: 147/150, Step: 144448, MSE loss: 0.022089484327434697, NN_max loss: 1.995690107345581\n",
            "Epoch: 148/150, Step: 145424, MSE loss: 0.02208839064411776, NN_max loss: 1.9957871437072754\n",
            "Epoch: 149/150, Step: 146400, MSE loss: 0.022087281013031843, NN_max loss: 1.995805263519287\n"
          ]
        }
      ],
      "source": [
        "mse_losses = []\n",
        "dataset_size = x_train.shape[0]\n",
        "batch_size = 20\n",
        "step_break = int(dataset_size/batch_size)\n",
        "for epoch in range(n_epochs):\n",
        "    mse_per_batch = []\n",
        "    for idx,(x_clean,x_equalize) in enumerate(zip(clean_train_data_loader,noisy_train_data_loader)):\n",
        "        step+=1\n",
        "        x_clean = x_clean.to(device)\n",
        "        x_equalize = x_equalize.to(device)\n",
        "\n",
        "        mixer_net_optim.zero_grad()\n",
        "        y = mixer_net(x_equalize)\n",
        "        #print(x_equalize.shape)\n",
        "        #print(y.shape)\n",
        "        #break\n",
        "        regularizer = 0\n",
        "        nn_max_loss = torch.max(complex_mse(y,x_clean))\n",
        "        #ls_max_loss =  torch.max(loss(x_equalize,x_clean))\n",
        "        #if(nn_max_loss > ls_max_loss):\n",
        "        #    regularizer = 0.1*nn_max_loss\n",
        "        _loss = torch.mean(complex_mse(y,x_clean))\n",
        "        \n",
        "        mse_loss = _loss\n",
        "        mse_loss.backward()\n",
        "        mixer_net_optim.step()\n",
        "        mse_per_batch.append(mse_loss.item())\n",
        "        if step % step_break == 0:\n",
        "            avg_mse_btch = np.mean(np.array(mse_per_batch))\n",
        "            mse_losses.append(avg_mse_btch)\n",
        "            #print(torch.max(_loss.reshape(-1)))\n",
        "            print('Epoch: {}/{}, Step: {}, MSE loss: {}, NN_max loss: {}'\\\n",
        "                  .format(epoch,n_epochs,step,avg_mse_btch, nn_max_loss))"
      ]
    },
    {
      "cell_type": "code",
      "source": [
        "torch.max(loss(y,x_clean))"
      ],
      "metadata": {
        "colab": {
          "base_uri": "https://localhost:8080/"
        },
        "id": "OZuofUHT2G6u",
        "outputId": "63560a5e-d296-4875-b11f-767bb887dbd8"
      },
      "execution_count": null,
      "outputs": [
        {
          "output_type": "execute_result",
          "data": {
            "text/plain": [
              "tensor(1.7031, device='cuda:0', grad_fn=<MaxBackward1>)"
            ]
          },
          "metadata": {},
          "execution_count": 61
        }
      ]
    },
    {
      "cell_type": "code",
      "execution_count": null,
      "metadata": {
        "colab": {
          "base_uri": "https://localhost:8080/",
          "height": 312
        },
        "id": "EALDBHO1MJdK",
        "outputId": "904bbde1-3f98-4946-a0d5-562bccaf7982"
      },
      "outputs": [
        {
          "output_type": "execute_result",
          "data": {
            "text/plain": [
              "<matplotlib.legend.Legend at 0x7f6f50e7df10>"
            ]
          },
          "metadata": {},
          "execution_count": 44
        },
        {
          "output_type": "display_data",
          "data": {
            "text/plain": [
              "<Figure size 432x288 with 1 Axes>"
            ],
            "image/png": "[encoded data removed]"
          },
          "metadata": {
            "needs_background": "light"
          }
        }
      ],
      "source": [
        "mse_losses = np.array(mse_losses)\n",
        "plt.plot(range(mse_losses.shape[0]),mse_losses[:],label='MSE NN equalized symbol')\n",
        "plt.xlabel(\"Over all batch of train data\")\n",
        "plt.ylabel(\"MSE\")\n",
        "plt.title('NN training loss(48 x 1 input)')\n",
        "plt.legend()"
      ]
    },
    {
      "cell_type": "code",
      "execution_count": null,
      "metadata": {
        "id": "Z32ws9bQ_u67"
      },
      "outputs": [],
      "source": [
        "_loss = loss(y,x_clean).view(-1)\n",
        "#print(torch.max(_loss))\n",
        "_loss = _loss.detach().to('cpu').numpy()"
      ]
    },
    {
      "cell_type": "code",
      "execution_count": null,
      "metadata": {
        "id": "4MTlnZiKiDbu"
      },
      "outputs": [],
      "source": [
        "#_loss = _loss.detach().to('cpu').numpy()\n",
        "fig1, ax1 = plt.subplots(nrows=1, ncols=1,figsize=(5,5))\n",
        "ax1.set_title('Basic Plot')\n",
        "b = ax1.boxplot(_loss,widths = 0.3, notch=True, showfliers=True, vert=False)\n",
        "fig1.savefig('/content/drive/MyDrive/IQ_sample_data/GAN_QPSK_data/boxplot.png')\n",
        "\n",
        "#plt.boxplot(_loss)\n",
        "#fig = plt.figure(figsize=(100, 100))\n",
        "#plt.savefig('/content/drive/MyDrive/IQ_sample_data/GAN_QPSK_data/boxplot.png')\n",
        "#plt.show()"
      ]
    },
    {
      "cell_type": "code",
      "source": [
        "print(_loss.shape)\n",
        "print(b[\"fliers\"][0].get_data()[1].shape)"
      ],
      "metadata": {
        "colab": {
          "base_uri": "https://localhost:8080/"
        },
        "id": "tNMqT-wm5qpY",
        "outputId": "568f082a-d795-43f7-b97b-7876b4dbc93a"
      },
      "execution_count": null,
      "outputs": [
        {
          "output_type": "stream",
          "name": "stdout",
          "text": [
            "(203904,)\n",
            "(20448,)\n"
          ]
        }
      ]
    },
    {
      "cell_type": "code",
      "execution_count": null,
      "metadata": {
        "id": "_g61nO0HNNfL"
      },
      "outputs": [],
      "source": [
        "PATH = '/content/drive/MyDrive/IQ_sample_data/GAN_QPSK_data/'+str(snr_)+'dB_model_weight'\n",
        "torch.save(mixer_net.state_dict(), PATH)"
      ]
    },
    {
      "cell_type": "code",
      "execution_count": null,
      "metadata": {
        "colab": {
          "base_uri": "https://localhost:8080/"
        },
        "id": "YGxzh1G6N-xc",
        "outputId": "a1acc011-3ee5-402e-c177-78851077489a"
      },
      "outputs": [
        {
          "output_type": "execute_result",
          "data": {
            "text/plain": [
              "<All keys matched successfully>"
            ]
          },
          "metadata": {},
          "execution_count": 50
        }
      ],
      "source": [
        "PATH = '/content/drive/MyDrive/IQ_sample_data/GAN_QPSK_data/'+str(snr_)+'dB_model_weight'\n",
        "mixer_net.load_state_dict(torch.load(PATH,map_location=torch.device('cpu')))"
      ]
    },
    {
      "cell_type": "code",
      "source": [
        "_load_mse_losses = []\n",
        "_load_LS_mse_losses = []\n",
        "test_loss = nn.MSELoss(reduction='none')\n",
        "for idx,(x_clean_test,x_equalize_test) in enumerate(zip(clean_train_data_loader,noisy_train_data_loader)):\n",
        "    step+=1\n",
        "    x_clean_test = x_clean_test.to(device)\n",
        "    x_equalize_test = x_equalize_test.to(device)\n",
        "\n",
        "    #mixer_net_optim.zero_grad()\n",
        "    y = mixer_net(x_equalize_test)\n",
        "    #print(x_equalize.shape)\n",
        "    #print(y.shape)\n",
        "    #break\n",
        "    _loss = test_loss(y,x_clean_test).view(-1)\n",
        "    _loss = _loss.detach().to('cpu').numpy()\n",
        "    _load_mse_losses.extend(_loss)\n",
        "\n",
        "    _LS_mse_loss = test_loss(x_equalize_test,x_clean_test).view(-1)\n",
        "    _LS_mse_loss = _LS_mse_loss.detach().to('cpu').numpy()\n",
        "    _load_LS_mse_losses.extend(_LS_mse_loss)\n",
        "    #mse_loss = torch.mean(_loss)\n",
        "    #mse_loss.backward()\n",
        "    #mixer_net_optim.step()\n",
        "    #if step % step_break == 0:\n",
        "    #mse_losses.append(mse_loss.item())\n",
        "        #print(torch.max(_loss.reshape(-1)))\n",
        "    #print('Step: {}, MSE loss: {}'\\\n",
        "    #     .format(step,mse_loss.item()))\n",
        "\n",
        "_load_mse_losses = np.array(_load_mse_losses)\n",
        "_load_LS_mse_losses = np.array(_load_LS_mse_losses)\n",
        "sio.savemat('/content/drive/MyDrive/IQ_sample_data/GAN_QPSK_data/mse_losses_'+str(snr_)+'dB.mat',mdict={'mse_loss_data': _load_mse_losses})\n",
        "sio.savemat('/content/drive/MyDrive/IQ_sample_data/GAN_QPSK_data/LS_mse_losses_'+str(snr_)+'dB.mat',mdict={'ls_mse_loss_data': _load_LS_mse_losses})"
      ],
      "metadata": {
        "id": "1uvCfD2MVNfQ"
      },
      "execution_count": null,
      "outputs": []
    },
    {
      "cell_type": "code",
      "source": [
        "_5db_losses = sio.loadmat('/content/drive/MyDrive/IQ_sample_data/GAN_QPSK_data/mse_losses_'+str(5)+'dB.mat')['mse_loss_data']\n",
        "_10db_losses = sio.loadmat('/content/drive/MyDrive/IQ_sample_data/GAN_QPSK_data/mse_losses_'+str(10)+'dB.mat')['mse_loss_data']\n",
        "_15db_losses = sio.loadmat('/content/drive/MyDrive/IQ_sample_data/GAN_QPSK_data/mse_losses_'+str(15)+'dB.mat')['mse_loss_data']\n",
        "_20db_losses = sio.loadmat('/content/drive/MyDrive/IQ_sample_data/GAN_QPSK_data/mse_losses_'+str(20)+'dB.mat')['mse_loss_data']\n",
        "_25db_losses = sio.loadmat('/content/drive/MyDrive/IQ_sample_data/GAN_QPSK_data/mse_losses_'+str(25)+'dB.mat')['mse_loss_data']\n",
        "\n",
        "\n",
        "_5db_losses_LS = sio.loadmat('/content/drive/MyDrive/IQ_sample_data/GAN_QPSK_data/LS_mse_losses_'+str(5)+'dB.mat')['ls_mse_loss_data']\n",
        "_10db_losses_LS = sio.loadmat('/content/drive/MyDrive/IQ_sample_data/GAN_QPSK_data/LS_mse_losses_'+str(10)+'dB.mat')['ls_mse_loss_data']\n",
        "_15db_losses_LS = sio.loadmat('/content/drive/MyDrive/IQ_sample_data/GAN_QPSK_data/LS_mse_losses_'+str(15)+'dB.mat')['ls_mse_loss_data']\n",
        "_20db_losses_LS = sio.loadmat('/content/drive/MyDrive/IQ_sample_data/GAN_QPSK_data/LS_mse_losses_'+str(20)+'dB.mat')['ls_mse_loss_data']\n",
        "_25db_losses_LS = sio.loadmat('/content/drive/MyDrive/IQ_sample_data/GAN_QPSK_data/LS_mse_losses_'+str(25)+'dB.mat')['ls_mse_loss_data']"
      ],
      "metadata": {
        "id": "HKQju1w6vMlK"
      },
      "execution_count": null,
      "outputs": []
    },
    {
      "cell_type": "code",
      "source": [
        "print('NN med mean')\n",
        "print(np.median(_5db_losses), np.mean(_5db_losses))\n",
        "print(np.median(_10db_losses), np.mean(_10db_losses))\n",
        "print(np.median(_15db_losses), np.mean(_15db_losses))\n",
        "print(np.median(_20db_losses), np.mean(_20db_losses))\n",
        "print(np.median(_25db_losses), np.mean(_25db_losses))\n",
        "\n",
        "print('LS med mean')\n",
        "print(np.median(_5db_losses_LS), np.mean(_5db_losses_LS))\n",
        "print(np.median(_10db_losses_LS), np.mean(_10db_losses_LS))\n",
        "print(np.median(_15db_losses_LS), np.mean(_15db_losses_LS))\n",
        "print(np.median(_20db_losses_LS), np.mean(_20db_losses_LS))\n",
        "print(np.median(_25db_losses_LS), np.mean(_25db_losses_LS))"
      ],
      "metadata": {
        "id": "pkCNdZzKx620"
      },
      "execution_count": null,
      "outputs": []
    },
    {
      "cell_type": "code",
      "source": [
        "controls = ['5dB', '10dB', '15dB','20dB','25dB']\n",
        "fig1, ax1 = plt.subplots(nrows=1, ncols=1,figsize=(30,15))\n",
        "ax1.set_title('Basic Plot')\n",
        "b = ax1.boxplot([_5db_losses[0],_10db_losses[0],_15db_losses[0],_20db_losses[0],_25db_losses[0]],widths = 0.3, notch=True, showfliers=True, vert=False,labels=controls)\n",
        "fig1.savefig('/content/drive/MyDrive/IQ_sample_data/GAN_QPSK_data/boxplot.png')"
      ],
      "metadata": {
        "id": "RdWvFTsQN_Eu"
      },
      "execution_count": null,
      "outputs": []
    },
    {
      "cell_type": "code",
      "source": [
        "controls = ['5dB', '10dB', '15dB','20dB','25dB']\n",
        "fig1, ax1 = plt.subplots(nrows=1, ncols=1,figsize=(30,15))\n",
        "ax1.set_title('Basic Plot')\n",
        "b = ax1.boxplot([_5db_losses_LS[0],_10db_losses_LS[0],_15db_losses_LS[0],_20db_losses_LS[0],_25db_losses_LS[0]],widths = 0.3, notch=True, showfliers=True, vert=False,labels=controls)\n",
        "fig1.savefig('/content/drive/MyDrive/IQ_sample_data/GAN_QPSK_data/boxplot.png')"
      ],
      "metadata": {
        "id": "5sjQae_u5ZGb"
      },
      "execution_count": null,
      "outputs": []
    },
    {
      "cell_type": "code",
      "source": [
        "print(_load_mse_losses.shape)\n",
        "print(b[\"fliers\"][0].get_data()[1].shape)\n",
        "print(b[\"fliers\"][0].get_data()[1].shape[0]/_load_mse_losses.shape[0])"
      ],
      "metadata": {
        "colab": {
          "base_uri": "https://localhost:8080/"
        },
        "id": "E1rknF3iQhCU",
        "outputId": "2cf585be-313f-4ec6-e036-053d8550f93f"
      },
      "execution_count": null,
      "outputs": [
        {
          "output_type": "stream",
          "name": "stdout",
          "text": [
            "(17694720,)\n",
            "(1910460,)\n",
            "0.1079678005642361\n"
          ]
        }
      ]
    },
    {
      "cell_type": "code",
      "execution_count": null,
      "metadata": {
        "id": "gzOUpN4EIEdm",
        "colab": {
          "base_uri": "https://localhost:8080/"
        },
        "outputId": "13543a4e-bd60-4bbe-f882-2487b8cf86c9"
      },
      "outputs": [
        {
          "output_type": "stream",
          "name": "stdout",
          "text": [
            "NN MSE: 7.659957918804139e-05\n",
            "NN ber: 0.0, LS ber: 0.0\n",
            "NN MSE: 0.0014776777243241668\n",
            "NN ber: 0.0, LS ber: 0.0\n",
            "NN MSE: 0.0001862801582319662\n",
            "NN ber: 0.0, LS ber: 0.0\n",
            "NN MSE: 0.00012242505908943713\n",
            "NN ber: 0.0, LS ber: 0.0\n",
            "NN MSE: 9.209375275531784e-05\n",
            "NN ber: 0.0, LS ber: 0.0\n",
            "NN MSE: 3.0216762752388604e-05\n",
            "NN ber: 0.0, LS ber: 0.0\n",
            "NN MSE: 3.695995110319927e-05\n",
            "NN ber: 0.0, LS ber: 0.0\n",
            "NN MSE: 3.705354902194813e-05\n",
            "NN ber: 0.0, LS ber: 0.0\n",
            "NN MSE: 4.4887947296956554e-05\n",
            "NN ber: 0.0, LS ber: 0.0\n",
            "NN MSE: 4.693867958849296e-05\n",
            "NN ber: 0.0, LS ber: 0.0\n",
            "NN MSE: 2.57574920397019e-05\n",
            "NN ber: 0.0, LS ber: 0.0\n",
            "NN MSE: 2.7826014047604986e-05\n",
            "NN ber: 0.0, LS ber: 0.0\n",
            "NN MSE: 2.4801136532914825e-05\n",
            "NN ber: 0.0, LS ber: 0.0\n",
            "NN MSE: 2.370247420913074e-05\n",
            "NN ber: 0.0, LS ber: 0.0\n",
            "NN MSE: 2.539664819778409e-05\n",
            "NN ber: 0.0, LS ber: 0.0\n",
            "NN MSE: 0.07340843230485916\n",
            "NN ber: 0.021875, LS ber: 0.0203125\n",
            "NN MSE: 0.14860926568508148\n",
            "NN ber: 0.0484375, LS ber: 0.04635416666666667\n",
            "NN MSE: 0.0013339761644601822\n",
            "NN ber: 0.0005208333333333333, LS ber: 0.0005208333333333333\n",
            "NN MSE: 0.0008322398061864078\n",
            "NN ber: 0.0005208333333333333, LS ber: 0.0005208333333333333\n",
            "NN MSE: 0.00011024382547475398\n",
            "NN ber: 0.0, LS ber: 0.0\n",
            "NN MSE: 0.0001935734908329323\n",
            "NN ber: 0.0, LS ber: 0.0\n",
            "NN MSE: 0.0017979559488594532\n",
            "NN ber: 0.0010416666666666667, LS ber: 0.0010416666666666667\n",
            "NN MSE: 0.0010062037035822868\n",
            "NN ber: 0.0, LS ber: 0.0\n",
            "NN MSE: 0.0035116630606353283\n",
            "NN ber: 0.0015625, LS ber: 0.0015625\n",
            "NN MSE: 0.0009616021416150033\n",
            "NN ber: 0.0, LS ber: 0.0\n",
            "NN MSE: 0.0031540009658783674\n",
            "NN ber: 0.0005208333333333333, LS ber: 0.0005208333333333333\n",
            "NN MSE: 0.0012430337956175208\n",
            "NN ber: 0.0005208333333333333, LS ber: 0.0005208333333333333\n",
            "NN MSE: 0.019815372303128242\n",
            "NN ber: 0.005729166666666666, LS ber: 0.0046875\n",
            "NN MSE: 0.050089895725250244\n",
            "NN ber: 0.013020833333333334, LS ber: 0.0140625\n",
            "NN MSE: 0.03688642755150795\n",
            "NN ber: 0.013020833333333334, LS ber: 0.013020833333333334\n",
            "NN MSE: 0.05061720311641693\n",
            "NN ber: 0.016666666666666666, LS ber: 0.015625\n",
            "NN MSE: 0.030344700440764427\n",
            "NN ber: 0.011979166666666667, LS ber: 0.011458333333333333\n",
            "NN MSE: 0.04858813062310219\n",
            "NN ber: 0.015104166666666667, LS ber: 0.014583333333333334\n",
            "NN MSE: 0.03236547112464905\n",
            "NN ber: 0.0125, LS ber: 0.011458333333333333\n",
            "NN MSE: 0.05316374823451042\n",
            "NN ber: 0.016145833333333335, LS ber: 0.016666666666666666\n",
            "NN MSE: 0.0521104596555233\n",
            "NN ber: 0.0171875, LS ber: 0.016666666666666666\n",
            "NN MSE: 0.0003608711122069508\n",
            "NN ber: 0.0, LS ber: 0.0\n",
            "NN MSE: 0.005245857406407595\n",
            "NN ber: 0.0015625, LS ber: 0.0015625\n",
            "NN MSE: 0.0020216479897499084\n",
            "NN ber: 0.0005208333333333333, LS ber: 0.0005208333333333333\n",
            "NN MSE: 0.0012281776871532202\n",
            "NN ber: 0.0, LS ber: 0.0\n",
            "NN MSE: 0.0021385883446782827\n",
            "NN ber: 0.0005208333333333333, LS ber: 0.0005208333333333333\n",
            "NN MSE: 2.693548594834283e-05\n",
            "NN ber: 0.0, LS ber: 0.0\n",
            "NN MSE: 2.7762471290770918e-05\n",
            "NN ber: 0.0, LS ber: 0.0\n",
            "NN MSE: 2.630579001561273e-05\n",
            "NN ber: 0.0, LS ber: 0.0\n",
            "NN MSE: 2.4362674594158307e-05\n",
            "NN ber: 0.0, LS ber: 0.0\n",
            "NN MSE: 2.6038618671009317e-05\n",
            "NN ber: 0.0, LS ber: 0.0\n",
            "NN MSE: 0.033189062029123306\n",
            "NN ber: 0.011458333333333333, LS ber: 0.011458333333333333\n",
            "NN MSE: 0.01997782476246357\n",
            "NN ber: 0.007291666666666667, LS ber: 0.0078125\n",
            "NN MSE: 0.019842438399791718\n",
            "NN ber: 0.00625, LS ber: 0.0067708333333333336\n",
            "NN MSE: 0.016238540410995483\n",
            "NN ber: 0.004166666666666667, LS ber: 0.0036458333333333334\n",
            "NN MSE: 0.014967203140258789\n",
            "NN ber: 0.004166666666666667, LS ber: 0.004166666666666667\n",
            "NN MSE: 0.006023258436471224\n",
            "NN ber: 0.0015625, LS ber: 0.0015625\n",
            "NN MSE: 0.01302986592054367\n",
            "NN ber: 0.0036458333333333334, LS ber: 0.0036458333333333334\n",
            "NN MSE: 0.010943133383989334\n",
            "NN ber: 0.0036458333333333334, LS ber: 0.0046875\n",
            "NN MSE: 0.013726620934903622\n",
            "NN ber: 0.0046875, LS ber: 0.0046875\n",
            "NN MSE: 0.31274789571762085\n",
            "NN ber: 0.10520833333333333, LS ber: 0.103125\n",
            "NN MSE: 0.008729822933673859\n",
            "NN ber: 0.0020833333333333333, LS ber: 0.0026041666666666665\n",
            "NN MSE: 0.007167817559093237\n",
            "NN ber: 0.003125, LS ber: 0.0026041666666666665\n",
            "NN MSE: 0.003863129299134016\n",
            "NN ber: 0.0015625, LS ber: 0.0015625\n",
            "NN MSE: 0.015298178419470787\n",
            "NN ber: 0.0046875, LS ber: 0.0046875\n",
            "NN MSE: 0.007666717283427715\n",
            "NN ber: 0.0036458333333333334, LS ber: 0.0036458333333333334\n",
            "NN MSE: 0.10810965299606323\n",
            "NN ber: 0.035416666666666666, LS ber: 0.0359375\n",
            "NN MSE: 0.11149810999631882\n",
            "NN ber: 0.036458333333333336, LS ber: 0.036458333333333336\n",
            "NN MSE: 0.07822199165821075\n",
            "NN ber: 0.027083333333333334, LS ber: 0.025520833333333333\n",
            "NN MSE: 0.003049559658393264\n",
            "NN ber: 0.0010416666666666667, LS ber: 0.0010416666666666667\n",
            "NN MSE: 0.012853214517235756\n",
            "NN ber: 0.0036458333333333334, LS ber: 0.003125\n",
            "NN MSE: 0.00577504700049758\n",
            "NN ber: 0.0020833333333333333, LS ber: 0.0020833333333333333\n",
            "NN MSE: 0.005548008251935244\n",
            "NN ber: 0.0020833333333333333, LS ber: 0.0020833333333333333\n",
            "NN MSE: 0.014470983296632767\n",
            "NN ber: 0.0046875, LS ber: 0.0036458333333333334\n",
            "NN MSE: 5.253838389762677e-05\n",
            "NN ber: 0.0, LS ber: 0.0\n",
            "NN MSE: 2.9575403459602967e-05\n",
            "NN ber: 0.0, LS ber: 0.0\n",
            "NN MSE: 2.9791164706693962e-05\n",
            "NN ber: 0.0, LS ber: 0.0\n",
            "NN MSE: 2.514111838536337e-05\n",
            "NN ber: 0.0, LS ber: 0.0\n",
            "NN MSE: 2.8433723855414428e-05\n",
            "NN ber: 0.0, LS ber: 0.0\n",
            "NN MSE: 4.386273576528765e-05\n",
            "NN ber: 0.0, LS ber: 0.0\n",
            "NN MSE: 0.00035162558197043836\n",
            "NN ber: 0.0, LS ber: 0.0\n",
            "NN MSE: 4.554718543658964e-05\n",
            "NN ber: 0.0, LS ber: 0.0\n",
            "NN MSE: 4.361927858553827e-05\n",
            "NN ber: 0.0, LS ber: 0.0\n",
            "NN MSE: 0.0010131854796782136\n",
            "NN ber: 0.0005208333333333333, LS ber: 0.0005208333333333333\n",
            "NN MSE: 0.00014500221004709601\n",
            "NN ber: 0.0, LS ber: 0.0\n",
            "NN MSE: 6.195179594215006e-05\n",
            "NN ber: 0.0, LS ber: 0.0\n",
            "NN MSE: 8.462113328278065e-05\n",
            "NN ber: 0.0, LS ber: 0.0\n",
            "NN MSE: 0.00011006354179698974\n",
            "NN ber: 0.0, LS ber: 0.0\n",
            "NN MSE: 0.00013529459829442203\n",
            "NN ber: 0.0, LS ber: 0.0\n",
            "NN MSE: 0.013958164490759373\n",
            "NN ber: 0.005729166666666666, LS ber: 0.005208333333333333\n",
            "NN MSE: 0.01265658624470234\n",
            "NN ber: 0.0036458333333333334, LS ber: 0.0036458333333333334\n",
            "NN MSE: 0.011861801147460938\n",
            "NN ber: 0.004166666666666667, LS ber: 0.0036458333333333334\n",
            "NN MSE: 0.01166996918618679\n",
            "NN ber: 0.0026041666666666665, LS ber: 0.0026041666666666665\n",
            "NN MSE: 0.08310823887586594\n",
            "NN ber: 0.030729166666666665, LS ber: 0.03125\n",
            "NN MSE: 0.09733116626739502\n",
            "NN ber: 0.0265625, LS ber: 0.029166666666666667\n",
            "NN MSE: 0.03580944985151291\n",
            "NN ber: 0.011458333333333333, LS ber: 0.010416666666666666\n",
            "NN MSE: 0.046397849917411804\n",
            "NN ber: 0.015625, LS ber: 0.0140625\n",
            "NN MSE: 0.034465450793504715\n",
            "NN ber: 0.011979166666666667, LS ber: 0.013020833333333334\n",
            "NN MSE: 0.031309738755226135\n",
            "NN ber: 0.0109375, LS ber: 0.010416666666666666\n",
            "NN MSE: 0.03215231001377106\n",
            "NN ber: 0.0109375, LS ber: 0.009895833333333333\n",
            "NN MSE: 0.04533329978585243\n",
            "NN ber: 0.018229166666666668, LS ber: 0.016666666666666666\n",
            "NN MSE: 0.002550716046243906\n",
            "NN ber: 0.0015625, LS ber: 0.0010416666666666667\n",
            "NN MSE: 0.005889040417969227\n",
            "NN ber: 0.003125, LS ber: 0.0026041666666666665\n",
            "NN MSE: 0.0035797988530248404\n",
            "NN ber: 0.0010416666666666667, LS ber: 0.0010416666666666667\n",
            "NN MSE: 0.005679345224052668\n",
            "NN ber: 0.0015625, LS ber: 0.0020833333333333333\n",
            "NN MSE: 0.0037235068157315254\n",
            "NN ber: 0.0005208333333333333, LS ber: 0.0005208333333333333\n",
            "NN MSE: 0.013508918695151806\n",
            "NN ber: 0.004166666666666667, LS ber: 0.005208333333333333\n",
            "NN MSE: 0.010277177207171917\n",
            "NN ber: 0.003125, LS ber: 0.003125\n",
            "NN MSE: 0.012725050561130047\n",
            "NN ber: 0.0036458333333333334, LS ber: 0.003125\n",
            "NN MSE: 0.0034577397163957357\n",
            "NN ber: 0.0010416666666666667, LS ber: 0.0015625\n",
            "NN MSE: 0.008850771933794022\n",
            "NN ber: 0.0026041666666666665, LS ber: 0.0020833333333333333\n",
            "NN MSE: 0.0010534998727962375\n",
            "NN ber: 0.0, LS ber: 0.0005208333333333333\n",
            "NN MSE: 0.0007301298901438713\n",
            "NN ber: 0.0, LS ber: 0.0\n",
            "NN MSE: 0.002322763903066516\n",
            "NN ber: 0.0005208333333333333, LS ber: 0.0005208333333333333\n",
            "NN MSE: 0.0016812935937196016\n",
            "NN ber: 0.0, LS ber: 0.0\n",
            "NN MSE: 0.002708570333197713\n",
            "NN ber: 0.0010416666666666667, LS ber: 0.0010416666666666667\n",
            "NN MSE: 2.7630932891042903e-05\n",
            "NN ber: 0.0, LS ber: 0.0\n",
            "NN MSE: 2.432900873827748e-05\n",
            "NN ber: 0.0, LS ber: 0.0\n",
            "NN MSE: 2.577094710431993e-05\n",
            "NN ber: 0.0, LS ber: 0.0\n",
            "NN MSE: 2.4592076442786492e-05\n",
            "NN ber: 0.0, LS ber: 0.0\n",
            "NN MSE: 2.45036408159649e-05\n",
            "NN ber: 0.0, LS ber: 0.0\n",
            "NN MSE: 0.00014088640455156565\n",
            "NN ber: 0.0, LS ber: 0.0\n",
            "NN MSE: 0.00028588014538399875\n",
            "NN ber: 0.0, LS ber: 0.0\n",
            "NN MSE: 4.5794648031005636e-05\n",
            "NN ber: 0.0, LS ber: 0.0\n",
            "NN MSE: 9.897354175336659e-05\n",
            "NN ber: 0.0, LS ber: 0.0\n",
            "NN MSE: 4.2556828702799976e-05\n",
            "NN ber: 0.0, LS ber: 0.0\n",
            "NN MSE: 0.00017138978000730276\n",
            "NN ber: 0.0, LS ber: 0.0\n",
            "NN MSE: 0.0005495564546436071\n",
            "NN ber: 0.0, LS ber: 0.0\n",
            "NN MSE: 0.00010115680197486654\n",
            "NN ber: 0.0, LS ber: 0.0\n",
            "NN MSE: 7.034362351987511e-05\n",
            "NN ber: 0.0, LS ber: 0.0\n",
            "NN MSE: 0.00010170410678256303\n",
            "NN ber: 0.0, LS ber: 0.0\n",
            "NN MSE: 6.629049312323332e-05\n",
            "NN ber: 0.0, LS ber: 0.0\n",
            "NN MSE: 3.4133539884351194e-05\n",
            "NN ber: 0.0, LS ber: 0.0\n",
            "NN MSE: 0.00018139975145459175\n",
            "NN ber: 0.0, LS ber: 0.0\n",
            "NN MSE: 4.6148899855325e-05\n",
            "NN ber: 0.0, LS ber: 0.0\n",
            "NN MSE: 3.3115116821136326e-05\n",
            "NN ber: 0.0, LS ber: 0.0\n",
            "NN MSE: 0.0010732703376561403\n",
            "NN ber: 0.0005208333333333333, LS ber: 0.0005208333333333333\n",
            "NN MSE: 0.0009207910043187439\n",
            "NN ber: 0.0, LS ber: 0.0\n",
            "NN MSE: 0.0022133318707346916\n",
            "NN ber: 0.0010416666666666667, LS ber: 0.0010416666666666667\n",
            "NN MSE: 0.002532356884330511\n",
            "NN ber: 0.0010416666666666667, LS ber: 0.0010416666666666667\n",
            "NN MSE: 0.0003943355695810169\n",
            "NN ber: 0.0, LS ber: 0.0\n",
            "NN MSE: 0.04638019576668739\n",
            "NN ber: 0.016145833333333335, LS ber: 0.015625\n",
            "NN MSE: 0.06602256000041962\n",
            "NN ber: 0.021354166666666667, LS ber: 0.020833333333333332\n",
            "NN MSE: 0.06651836633682251\n",
            "NN ber: 0.021354166666666667, LS ber: 0.021875\n",
            "NN MSE: 0.07201682031154633\n",
            "NN ber: 0.024479166666666666, LS ber: 0.024479166666666666\n",
            "NN MSE: 0.028072869405150414\n",
            "NN ber: 0.0078125, LS ber: 0.0078125\n",
            "NN MSE: 0.0373108871281147\n",
            "NN ber: 0.0125, LS ber: 0.011979166666666667\n",
            "NN MSE: 0.02622971497476101\n",
            "NN ber: 0.008333333333333333, LS ber: 0.009375\n",
            "NN MSE: 0.03452519699931145\n",
            "NN ber: 0.011458333333333333, LS ber: 0.011458333333333333\n",
            "NN MSE: 0.08000855147838593\n",
            "NN ber: 0.024479166666666666, LS ber: 0.024479166666666666\n",
            "NN MSE: 0.05921996757388115\n",
            "NN ber: 0.021354166666666667, LS ber: 0.021875\n",
            "NN MSE: 0.08457473665475845\n",
            "NN ber: 0.029166666666666667, LS ber: 0.028645833333333332\n",
            "NN MSE: 0.06563078612089157\n",
            "NN ber: 0.021354166666666667, LS ber: 0.020833333333333332\n",
            "NN MSE: 0.00018027810438070446\n",
            "NN ber: 0.0, LS ber: 0.0\n",
            "NN MSE: 0.0010076097678393126\n",
            "NN ber: 0.0005208333333333333, LS ber: 0.0005208333333333333\n",
            "NN MSE: 8.343849185621366e-05\n",
            "NN ber: 0.0, LS ber: 0.0\n",
            "NN MSE: 0.0037855682894587517\n",
            "NN ber: 0.0010416666666666667, LS ber: 0.0010416666666666667\n",
            "NN MSE: 0.000113095753476955\n",
            "NN ber: 0.0, LS ber: 0.0\n",
            "NN MSE: 0.0006593966390937567\n",
            "NN ber: 0.0, LS ber: 0.0\n",
            "NN MSE: 0.0015848774928599596\n",
            "NN ber: 0.0005208333333333333, LS ber: 0.0005208333333333333\n",
            "NN MSE: 0.0023583148140460253\n",
            "NN ber: 0.0005208333333333333, LS ber: 0.0005208333333333333\n",
            "NN MSE: 0.00032200897112488747\n",
            "NN ber: 0.0, LS ber: 0.0\n",
            "NN MSE: 0.006478044204413891\n",
            "NN ber: 0.0026041666666666665, LS ber: 0.003125\n",
            "NN MSE: 0.11774737387895584\n",
            "NN ber: 0.0390625, LS ber: 0.03854166666666667\n",
            "NN MSE: 0.12426890432834625\n",
            "NN ber: 0.0421875, LS ber: 0.044270833333333336\n",
            "NN MSE: 0.005228892434388399\n",
            "NN ber: 0.0015625, LS ber: 0.0010416666666666667\n",
            "NN MSE: 0.004216989502310753\n",
            "NN ber: 0.0010416666666666667, LS ber: 0.0010416666666666667\n",
            "NN MSE: 0.00500827468931675\n",
            "NN ber: 0.0015625, LS ber: 0.0015625\n",
            "NN MSE: 0.0036649981047958136\n",
            "NN ber: 0.0010416666666666667, LS ber: 0.0010416666666666667\n",
            "NN MSE: 0.002968637505546212\n",
            "NN ber: 0.0005208333333333333, LS ber: 0.0005208333333333333\n",
            "NN MSE: 0.01390300877392292\n",
            "NN ber: 0.005729166666666666, LS ber: 0.005208333333333333\n",
            "NN MSE: 0.013117569498717785\n",
            "NN ber: 0.004166666666666667, LS ber: 0.004166666666666667\n",
            "NN MSE: 0.02133309096097946\n",
            "NN ber: 0.0067708333333333336, LS ber: 0.0067708333333333336\n",
            "NN MSE: 0.007902834564447403\n",
            "NN ber: 0.0020833333333333333, LS ber: 0.0020833333333333333\n",
            "NN MSE: 0.015228819102048874\n",
            "NN ber: 0.0046875, LS ber: 0.005208333333333333\n",
            "NN MSE: 0.01381728146225214\n",
            "NN ber: 0.004166666666666667, LS ber: 0.004166666666666667\n",
            "NN MSE: 0.00726792449131608\n",
            "NN ber: 0.0036458333333333334, LS ber: 0.0036458333333333334\n",
            "NN MSE: 0.05892324820160866\n",
            "NN ber: 0.0203125, LS ber: 0.021354166666666667\n",
            "NN MSE: 0.08301109820604324\n",
            "NN ber: 0.027604166666666666, LS ber: 0.027604166666666666\n",
            "NN MSE: 0.039844855666160583\n",
            "NN ber: 0.013020833333333334, LS ber: 0.0140625\n",
            "NN MSE: 0.046626657247543335\n",
            "NN ber: 0.0171875, LS ber: 0.0171875\n",
            "NN MSE: 0.06304421275854111\n",
            "NN ber: 0.019270833333333334, LS ber: 0.017708333333333333\n",
            "NN MSE: 0.0517740473151207\n",
            "NN ber: 0.018229166666666668, LS ber: 0.017708333333333333\n",
            "NN MSE: 0.03674311190843582\n",
            "NN ber: 0.014583333333333334, LS ber: 0.0125\n",
            "NN MSE: 4.375858770799823e-05\n",
            "NN ber: 0.0, LS ber: 0.0\n",
            "NN MSE: 3.0037021133466624e-05\n",
            "NN ber: 0.0, LS ber: 0.0\n",
            "NN MSE: 7.637121598236263e-05\n",
            "NN ber: 0.0, LS ber: 0.0\n",
            "NN MSE: 2.7581190806813538e-05\n",
            "NN ber: 0.0, LS ber: 0.0\n",
            "NN MSE: 2.5359930077684112e-05\n",
            "NN ber: 0.0, LS ber: 0.0\n",
            "NN MSE: 2.6785355657921173e-05\n",
            "NN ber: 0.0, LS ber: 0.0\n",
            "NN MSE: 2.3755879738018848e-05\n",
            "NN ber: 0.0, LS ber: 0.0\n",
            "NN MSE: 2.7572601538849995e-05\n",
            "NN ber: 0.0, LS ber: 0.0\n",
            "NN MSE: 3.1346295145340264e-05\n",
            "NN ber: 0.0, LS ber: 0.0\n",
            "NN MSE: 3.029865365533624e-05\n",
            "NN ber: 0.0, LS ber: 0.0\n",
            "NN MSE: 0.013459328562021255\n",
            "NN ber: 0.004166666666666667, LS ber: 0.004166666666666667\n",
            "NN MSE: 0.02034241519868374\n",
            "NN ber: 0.00625, LS ber: 0.00625\n",
            "NN MSE: 0.02580839768052101\n",
            "NN ber: 0.007291666666666667, LS ber: 0.0067708333333333336\n",
            "NN MSE: 0.011211642064154148\n",
            "NN ber: 0.003125, LS ber: 0.003125\n",
            "NN MSE: 0.024703705683350563\n",
            "NN ber: 0.008333333333333333, LS ber: 0.009375\n",
            "NN MSE: 0.0023814458400011063\n",
            "NN ber: 0.0010416666666666667, LS ber: 0.0010416666666666667\n",
            "NN MSE: 0.0021328716538846493\n",
            "NN ber: 0.0010416666666666667, LS ber: 0.0010416666666666667\n",
            "NN MSE: 0.00128211232367903\n",
            "NN ber: 0.0, LS ber: 0.0\n",
            "NN MSE: 0.001820934354327619\n",
            "NN ber: 0.0010416666666666667, LS ber: 0.0005208333333333333\n",
            "NN MSE: 0.002168314764276147\n",
            "NN ber: 0.0010416666666666667, LS ber: 0.0010416666666666667\n",
            "NN MSE: 2.299374136782717e-05\n",
            "NN ber: 0.0, LS ber: 0.0\n",
            "NN MSE: 2.3164760932559147e-05\n",
            "NN ber: 0.0, LS ber: 0.0\n",
            "NN MSE: 2.3676237105973996e-05\n",
            "NN ber: 0.0, LS ber: 0.0\n",
            "NN MSE: 2.3975340809556656e-05\n",
            "NN ber: 0.0, LS ber: 0.0\n",
            "NN MSE: 2.7397036319598556e-05\n",
            "NN ber: 0.0, LS ber: 0.0\n",
            "NN MSE: 4.953655297867954e-05\n",
            "NN ber: 0.0, LS ber: 0.0\n",
            "NN MSE: 5.017777584725991e-05\n",
            "NN ber: 0.0, LS ber: 0.0\n",
            "NN MSE: 9.244799002772197e-05\n",
            "NN ber: 0.0, LS ber: 0.0\n",
            "NN MSE: 0.00014089231262914836\n",
            "NN ber: 0.0, LS ber: 0.0\n",
            "NN MSE: 3.562175697879866e-05\n",
            "NN ber: 0.0, LS ber: 0.0\n",
            "NN MSE: 2.692022462724708e-05\n",
            "NN ber: 0.0, LS ber: 0.0\n",
            "NN MSE: 2.8515236408566125e-05\n",
            "NN ber: 0.0, LS ber: 0.0\n",
            "NN MSE: 4.001160050393082e-05\n",
            "NN ber: 0.0, LS ber: 0.0\n",
            "NN MSE: 7.476648897863925e-05\n",
            "NN ber: 0.0, LS ber: 0.0\n",
            "NN MSE: 2.5815923436312005e-05\n",
            "NN ber: 0.0, LS ber: 0.0\n",
            "NN MSE: 0.0001095148254535161\n",
            "NN ber: 0.0, LS ber: 0.0\n",
            "NN MSE: 0.0022225126158446074\n",
            "NN ber: 0.0005208333333333333, LS ber: 0.0005208333333333333\n",
            "NN MSE: 0.00027257727924734354\n",
            "NN ber: 0.0, LS ber: 0.0\n",
            "NN MSE: 0.00021120587189216167\n",
            "NN ber: 0.0, LS ber: 0.0\n",
            "NN MSE: 7.163662667153403e-05\n",
            "NN ber: 0.0, LS ber: 0.0\n",
            "NN MSE: 0.10570777952671051\n",
            "NN ber: 0.034895833333333334, LS ber: 0.033854166666666664\n",
            "NN MSE: 0.09911880642175674\n",
            "NN ber: 0.03229166666666667, LS ber: 0.0328125\n",
            "NN MSE: 0.023218123242259026\n",
            "NN ber: 0.0067708333333333336, LS ber: 0.0067708333333333336\n",
            "NN MSE: 0.013362606056034565\n",
            "NN ber: 0.0036458333333333334, LS ber: 0.0036458333333333334\n",
            "NN MSE: 0.017848927527666092\n",
            "NN ber: 0.00625, LS ber: 0.0067708333333333336\n",
            "NN MSE: 0.01554680336266756\n",
            "NN ber: 0.0067708333333333336, LS ber: 0.00625\n",
            "NN MSE: 0.02061668410897255\n",
            "NN ber: 0.005729166666666666, LS ber: 0.005729166666666666\n",
            "NN MSE: 0.06740742176771164\n",
            "NN ber: 0.021354166666666667, LS ber: 0.020833333333333332\n",
            "NN MSE: 0.05747676640748978\n",
            "NN ber: 0.019270833333333334, LS ber: 0.01875\n",
            "NN MSE: 0.05898318439722061\n",
            "NN ber: 0.01875, LS ber: 0.019270833333333334\n",
            "NN MSE: 0.06821152567863464\n",
            "NN ber: 0.0203125, LS ber: 0.019791666666666666\n",
            "NN MSE: 0.06065571680665016\n",
            "NN ber: 0.019791666666666666, LS ber: 0.0203125\n",
            "NN MSE: 0.01919393055140972\n",
            "NN ber: 0.005208333333333333, LS ber: 0.005208333333333333\n",
            "NN MSE: 0.03274406120181084\n",
            "NN ber: 0.0109375, LS ber: 0.0109375\n",
            "NN MSE: 0.04395132511854172\n",
            "NN ber: 0.014583333333333334, LS ber: 0.0140625\n",
            "NN MSE: 0.025842033326625824\n",
            "NN ber: 0.0078125, LS ber: 0.007291666666666667\n",
            "NN MSE: 0.013570759445428848\n",
            "NN ber: 0.0046875, LS ber: 0.0046875\n",
            "NN MSE: 0.008201888762414455\n",
            "NN ber: 0.0020833333333333333, LS ber: 0.0020833333333333333\n",
            "NN MSE: 0.003142700996249914\n",
            "NN ber: 0.0010416666666666667, LS ber: 0.0010416666666666667\n",
            "NN MSE: 0.010713260620832443\n",
            "NN ber: 0.003125, LS ber: 0.003125\n",
            "NN MSE: 0.00220881262794137\n",
            "NN ber: 0.0005208333333333333, LS ber: 0.0005208333333333333\n",
            "NN MSE: 0.07608971744775772\n",
            "NN ber: 0.025, LS ber: 0.025\n",
            "NN MSE: 0.09044879674911499\n",
            "NN ber: 0.028645833333333332, LS ber: 0.030208333333333334\n",
            "NN MSE: 0.04144073277711868\n",
            "NN ber: 0.0140625, LS ber: 0.013541666666666667\n",
            "NN MSE: 0.045072924345731735\n",
            "NN ber: 0.015104166666666667, LS ber: 0.015104166666666667\n",
            "NN MSE: 0.016499226912856102\n",
            "NN ber: 0.0046875, LS ber: 0.0046875\n",
            "NN MSE: 0.01697765663266182\n",
            "NN ber: 0.00625, LS ber: 0.0067708333333333336\n",
            "NN MSE: 0.009929287247359753\n",
            "NN ber: 0.0036458333333333334, LS ber: 0.0036458333333333334\n",
            "NN MSE: 0.010266723111271858\n",
            "NN ber: 0.003125, LS ber: 0.003125\n",
            "NN MSE: 0.017493849620223045\n",
            "NN ber: 0.0067708333333333336, LS ber: 0.0067708333333333336\n",
            "NN MSE: 0.03415467217564583\n",
            "NN ber: 0.0109375, LS ber: 0.010416666666666666\n",
            "NN MSE: 0.053919993340969086\n",
            "NN ber: 0.019270833333333334, LS ber: 0.017708333333333333\n",
            "NN MSE: 0.043364785611629486\n",
            "NN ber: 0.0140625, LS ber: 0.0140625\n",
            "NN MSE: 0.09035864472389221\n",
            "NN ber: 0.03229166666666667, LS ber: 0.03125\n",
            "NN MSE: 0.013921714387834072\n",
            "NN ber: 0.005208333333333333, LS ber: 0.0036458333333333334\n",
            "NN MSE: 0.009206629358232021\n",
            "NN ber: 0.0026041666666666665, LS ber: 0.0026041666666666665\n",
            "NN MSE: 0.004493182525038719\n",
            "NN ber: 0.0010416666666666667, LS ber: 0.0010416666666666667\n",
            "NN MSE: 0.009166779927909374\n",
            "NN ber: 0.003125, LS ber: 0.003125\n",
            "NN MSE: 0.013880847953259945\n",
            "NN ber: 0.005729166666666666, LS ber: 0.005208333333333333\n",
            "NN MSE: 0.18475575745105743\n",
            "NN ber: 0.0609375, LS ber: 0.06197916666666667\n",
            "NN MSE: 0.18272927403450012\n",
            "NN ber: 0.06041666666666667, LS ber: 0.059895833333333336\n",
            "NN MSE: 0.14367298781871796\n",
            "NN ber: 0.046875, LS ber: 0.04583333333333333\n",
            "NN MSE: 0.15800251066684723\n",
            "NN ber: 0.0515625, LS ber: 0.053125\n",
            "NN MSE: 3.0454453735728748e-05\n",
            "NN ber: 0.0, LS ber: 0.0\n",
            "NN MSE: 3.1066167139215395e-05\n",
            "NN ber: 0.0, LS ber: 0.0\n",
            "NN MSE: 3.497029683785513e-05\n",
            "NN ber: 0.0, LS ber: 0.0\n",
            "NN MSE: 3.219165591872297e-05\n",
            "NN ber: 0.0, LS ber: 0.0\n",
            "NN MSE: 3.093752820859663e-05\n",
            "NN ber: 0.0, LS ber: 0.0\n",
            "NN MSE: 0.06780322641134262\n",
            "NN ber: 0.021875, LS ber: 0.021875\n",
            "NN MSE: 0.03888508304953575\n",
            "NN ber: 0.0125, LS ber: 0.011979166666666667\n",
            "NN MSE: 0.0001794566196622327\n",
            "NN ber: 0.0, LS ber: 0.0\n",
            "NN MSE: 0.0006102971965447068\n",
            "NN ber: 0.0, LS ber: 0.0\n",
            "NN MSE: 0.0002365850523347035\n",
            "NN ber: 0.0, LS ber: 0.0\n",
            "NN MSE: 0.0005686628865078092\n",
            "NN ber: 0.0, LS ber: 0.0\n",
            "NN MSE: 0.0025144522078335285\n",
            "NN ber: 0.0005208333333333333, LS ber: 0.0005208333333333333\n",
            "NN MSE: 0.1334821581840515\n",
            "NN ber: 0.043229166666666666, LS ber: 0.04479166666666667\n",
            "NN MSE: 0.1434849500656128\n",
            "NN ber: 0.0484375, LS ber: 0.04739583333333333\n",
            "NN MSE: 0.0449514240026474\n",
            "NN ber: 0.015104166666666667, LS ber: 0.013541666666666667\n",
            "NN MSE: 0.03714614734053612\n",
            "NN ber: 0.011458333333333333, LS ber: 0.010416666666666666\n",
            "NN MSE: 0.026279199868440628\n",
            "NN ber: 0.009375, LS ber: 0.009895833333333333\n",
            "NN MSE: 0.023870525881648064\n",
            "NN ber: 0.0078125, LS ber: 0.007291666666666667\n",
            "NN MSE: 0.014397270046174526\n",
            "NN ber: 0.005208333333333333, LS ber: 0.005208333333333333\n",
            "NN MSE: 0.013817759230732918\n",
            "NN ber: 0.004166666666666667, LS ber: 0.004166666666666667\n",
            "NN MSE: 0.00801839865744114\n",
            "NN ber: 0.0026041666666666665, LS ber: 0.0020833333333333333\n",
            "NN MSE: 0.004805118311196566\n",
            "NN ber: 0.0010416666666666667, LS ber: 0.0010416666666666667\n",
            "NN MSE: 0.010030732490122318\n",
            "NN ber: 0.003125, LS ber: 0.004166666666666667\n",
            "NN MSE: 0.00032963891862891614\n",
            "NN ber: 0.0, LS ber: 0.0\n",
            "NN MSE: 7.80516056693159e-05\n",
            "NN ber: 0.0, LS ber: 0.0\n",
            "NN MSE: 0.0003007177438121289\n",
            "NN ber: 0.0, LS ber: 0.0\n",
            "NN MSE: 0.00017045217100530863\n",
            "NN ber: 0.0, LS ber: 0.0\n",
            "NN MSE: 0.00034768428304232657\n",
            "NN ber: 0.0, LS ber: 0.0\n",
            "NN MSE: 0.048070814460515976\n",
            "NN ber: 0.015104166666666667, LS ber: 0.015104166666666667\n",
            "NN MSE: 0.03473132848739624\n",
            "NN ber: 0.011458333333333333, LS ber: 0.011458333333333333\n",
            "NN MSE: 0.04194389283657074\n",
            "NN ber: 0.013020833333333334, LS ber: 0.011458333333333333\n",
            "NN MSE: 0.07176598161458969\n",
            "NN ber: 0.021354166666666667, LS ber: 0.022395833333333334\n",
            "NN MSE: 0.13684460520744324\n",
            "NN ber: 0.04479166666666667, LS ber: 0.041666666666666664\n",
            "NN MSE: 0.09780493378639221\n",
            "NN ber: 0.03177083333333333, LS ber: 0.03229166666666667\n",
            "NN MSE: 0.0013259751722216606\n",
            "NN ber: 0.0005208333333333333, LS ber: 0.0\n",
            "NN MSE: 0.00631622364744544\n",
            "NN ber: 0.0020833333333333333, LS ber: 0.0020833333333333333\n",
            "NN MSE: 0.0006815469241701066\n",
            "NN ber: 0.0, LS ber: 0.0\n",
            "NN MSE: 0.0015535842394456267\n",
            "NN ber: 0.0005208333333333333, LS ber: 0.0005208333333333333\n",
            "NN MSE: 0.0013552732998505235\n",
            "NN ber: 0.0, LS ber: 0.0\n",
            "NN MSE: 2.252605918329209e-05\n",
            "NN ber: 0.0, LS ber: 0.0\n",
            "NN MSE: 2.564304850238841e-05\n",
            "NN ber: 0.0, LS ber: 0.0\n",
            "NN MSE: 2.5159046344924718e-05\n",
            "NN ber: 0.0, LS ber: 0.0\n",
            "NN MSE: 2.3803200747352093e-05\n",
            "NN ber: 0.0, LS ber: 0.0\n",
            "NN MSE: 3.323475903016515e-05\n",
            "NN ber: 0.0, LS ber: 0.0\n",
            "NN MSE: 0.008306341245770454\n",
            "NN ber: 0.0026041666666666665, LS ber: 0.0026041666666666665\n",
            "NN MSE: 0.004939277656376362\n",
            "NN ber: 0.0015625, LS ber: 0.0015625\n",
            "NN MSE: 0.006863890681415796\n",
            "NN ber: 0.0020833333333333333, LS ber: 0.0015625\n",
            "NN MSE: 0.005777252838015556\n",
            "NN ber: 0.0010416666666666667, LS ber: 0.0015625\n",
            "NN MSE: 0.008787204511463642\n",
            "NN ber: 0.0015625, LS ber: 0.0015625\n",
            "NN MSE: 0.0011553132208064198\n",
            "NN ber: 0.0, LS ber: 0.0\n",
            "NN MSE: 0.00028317919350229204\n",
            "NN ber: 0.0, LS ber: 0.0\n",
            "NN MSE: 0.00039423315320163965\n",
            "NN ber: 0.0, LS ber: 0.0\n",
            "NN MSE: 0.0013051806017756462\n",
            "NN ber: 0.0005208333333333333, LS ber: 0.0\n",
            "NN MSE: 0.0007769032381474972\n",
            "NN ber: 0.0, LS ber: 0.0\n",
            "NN MSE: 2.4407150704064406e-05\n",
            "NN ber: 0.0, LS ber: 0.0\n",
            "NN MSE: 2.5782195734791458e-05\n",
            "NN ber: 0.0, LS ber: 0.0\n",
            "NN MSE: 2.742525248322636e-05\n",
            "NN ber: 0.0, LS ber: 0.0\n",
            "NN MSE: 2.3661994418944232e-05\n",
            "NN ber: 0.0, LS ber: 0.0\n",
            "NN MSE: 2.5580182409612462e-05\n",
            "NN ber: 0.0, LS ber: 0.0\n",
            "NN MSE: 4.764670302392915e-05\n",
            "NN ber: 0.0, LS ber: 0.0\n",
            "NN MSE: 6.023434616508894e-05\n",
            "NN ber: 0.0, LS ber: 0.0\n",
            "NN MSE: 6.27891713520512e-05\n",
            "NN ber: 0.0, LS ber: 0.0\n",
            "NN MSE: 6.359561666613445e-05\n",
            "NN ber: 0.0, LS ber: 0.0\n",
            "NN MSE: 0.00017704791389405727\n",
            "NN ber: 0.0, LS ber: 0.0\n",
            "NN MSE: 2.2903217541170307e-05\n",
            "NN ber: 0.0, LS ber: 0.0\n",
            "NN MSE: 2.2048263417673297e-05\n",
            "NN ber: 0.0, LS ber: 0.0\n",
            "NN MSE: 2.7447402317193337e-05\n",
            "NN ber: 0.0, LS ber: 0.0\n",
            "NN MSE: 2.1813635612488724e-05\n",
            "NN ber: 0.0, LS ber: 0.0\n",
            "NN MSE: 2.5519226255710237e-05\n",
            "NN ber: 0.0, LS ber: 0.0\n",
            "NN MSE: 3.331788320792839e-05\n",
            "NN ber: 0.0, LS ber: 0.0\n",
            "NN MSE: 3.198262129444629e-05\n",
            "NN ber: 0.0, LS ber: 0.0\n",
            "NN MSE: 5.106320168124512e-05\n",
            "NN ber: 0.0, LS ber: 0.0\n",
            "NN MSE: 3.17221820296254e-05\n",
            "NN ber: 0.0, LS ber: 0.0\n",
            "NN MSE: 3.0287896152003668e-05\n",
            "NN ber: 0.0, LS ber: 0.0\n",
            "NN MSE: 0.015098338946700096\n",
            "NN ber: 0.005208333333333333, LS ber: 0.005729166666666666\n",
            "NN MSE: 0.029124852269887924\n",
            "NN ber: 0.008854166666666666, LS ber: 0.008854166666666666\n",
            "NN MSE: 0.010429383255541325\n",
            "NN ber: 0.0046875, LS ber: 0.0036458333333333334\n",
            "NN MSE: 0.015076865442097187\n",
            "NN ber: 0.0046875, LS ber: 0.0046875\n",
            "NN MSE: 0.021852660924196243\n",
            "NN ber: 0.008854166666666666, LS ber: 0.008854166666666666\n"
          ]
        }
      ],
      "source": [
        "recon_data = []\n",
        "eq_symbols = []\n",
        "orig_symbols = []\n",
        "\n",
        "test_mse_loss = []\n",
        "test_mse_loss_eq = []\n",
        "#LS_eq_symbols = []\n",
        "test_loss = nn.MSELoss(reduction='none')\n",
        "for idx,(x_clean_test,x_equalize_test) in enumerate(zip(clean_test_data_loader,noisy_test_data_loader)):\n",
        "    x_clean_test = x_clean_test.to(device)\n",
        "    #LS_eq_symbols.extend(x_equalize_test[:,0,:]+1j*x_equalize_test[:,1,:])\n",
        "    x_equalize_test = x_equalize_test.to(device)\n",
        "    \n",
        "    y_out = mixer_net(x_equalize_test)\n",
        "    ls = torch.mean(complex_mse(y_out,x_clean_test))\n",
        "    #eq_ls = torch.mean(test_loss(x_equalize_test,x_clean_test))\n",
        "\n",
        "    test_mse_loss.append(ls.item())\n",
        "    #test_mse_loss_eq.append(eq_ls.item())\n",
        "\n",
        "    \n",
        "    x_clean_test = x_clean_test.detach().to('cpu').numpy()\n",
        "    x_equalize_test = x_equalize_test.detach().to('cpu').numpy()\n",
        "    y_out = y_out.detach().to('cpu').numpy()\n",
        "\n",
        "    x_clean_IQ = x_clean_test#[:,0,idx1]+1j*x_clean_test[:,0,idx2]\n",
        "    x_equalize_IQ = x_equalize_test[:,0,:,0]+1j*x_equalize_test[:,0,:,1]\n",
        "    y_out_IQ = y_out#[:,0,idx1]+1j*y_out[:,0,idx2]\n",
        "\n",
        "    recon_bits = obj_QPSK.demodulate(received = y_out_IQ,decision_method='hard')\n",
        "    orig_bits = obj_QPSK.demodulate(received = x_clean_IQ,decision_method='hard')\n",
        "    eq_bits = obj_QPSK.demodulate(received = x_equalize_IQ,decision_method='hard')\n",
        "\n",
        "    num_bits = orig_bits.shape[0]\n",
        "\n",
        "    num_error = np.sum(recon_bits != orig_bits)\n",
        "\n",
        "    num_error_eq = np.sum(eq_bits != orig_bits)\n",
        "    print('NN MSE: {}'.format(ls.item()))\n",
        "    print('NN ber: {}, LS ber: {}'\\\n",
        "                  .format((num_error/num_bits),(num_error_eq/num_bits)))\n",
        "    recon = y_out_IQ#.detach().to('cpu').numpy()\n",
        "    eq_symbols.extend(x_equalize_IQ)\n",
        "    orig_symbols.extend(x_clean_IQ)\n",
        "\n",
        "    #complex_recon = recon[:,0,:]+1j*recon[:,1,:]\n",
        "    recon_data.extend(recon)\n",
        "\n",
        "recon_data = np.asarray(recon_data)\n",
        "eq_symbols = np.asarray(eq_symbols)\n",
        "orig_symbols = np.asarray(orig_symbols)\n",
        "\n",
        "test_mse_loss = np.array(test_mse_loss)\n",
        "test_mse_loss_eq = np.array(test_mse_loss_eq)\n",
        "#LS_val = noisy_test_data[:,0,:]+1j*noisy_test_data[:,1,:]\n",
        "#clean_val = clean_test_data[:,0,:] +1j*clean_test_data[:,1,:]"
      ]
    },
    {
      "cell_type": "code",
      "source": [
        "out = mixer_net(test_noisy_data_tensor)\n",
        "out = out#[:,0,idx1]+1j*out[:,0,idx2]\n",
        "test_noisy_data_tensor = test_noisy_data_tensor[:,0,:,0]+1j*test_noisy_data_tensor[:,0,:,1]"
      ],
      "metadata": {
        "id": "vh7JwonIxcWV"
      },
      "execution_count": null,
      "outputs": []
    },
    {
      "cell_type": "code",
      "source": [
        "print(out.shape)\n",
        "print(test_noisy_data_tensor.shape)"
      ],
      "metadata": {
        "colab": {
          "base_uri": "https://localhost:8080/"
        },
        "id": "MdRrTceox0ae",
        "outputId": "dff658c5-4956-4d8f-cc86-986b5ad2eedf"
      },
      "execution_count": null,
      "outputs": [
        {
          "output_type": "stream",
          "name": "stdout",
          "text": [
            "torch.Size([6820, 48])\n",
            "torch.Size([6820, 48])\n"
          ]
        }
      ]
    },
    {
      "cell_type": "code",
      "source": [
        "print(out[5000])\n",
        "print(test_noisy_data_tensor[5000])"
      ],
      "metadata": {
        "colab": {
          "base_uri": "https://localhost:8080/"
        },
        "id": "g3B6IhA11noz",
        "outputId": "586c16dc-90c7-4ff1-c4d6-565429e6243b"
      },
      "execution_count": null,
      "outputs": [
        {
          "output_type": "stream",
          "name": "stdout",
          "text": [
            "tensor([ 0.7052-0.7012j, -0.7042+0.6990j, -0.6934-0.7118j, -0.6965+0.6474j,\n",
            "         0.7059-0.6796j, -0.6939-0.7127j,  0.6743-0.1880j,  0.7100-0.7070j,\n",
            "        -0.6936+0.5209j, -0.6268-0.6733j, -0.7034+0.6954j,  0.7094-0.7096j,\n",
            "         0.6685+0.6914j,  0.7020-0.6948j,  0.7068-0.7038j,  0.6901+0.6979j,\n",
            "        -0.6922-0.7117j, -0.7064+0.7035j,  0.7074-0.6993j, -0.6893-0.7114j,\n",
            "        -0.6929-0.7120j, -0.6889-0.7113j, -0.7041+0.6978j,  0.7079-0.7049j,\n",
            "        -0.7038+0.6966j, -0.7028+0.6933j,  0.6779+0.6945j,  0.7077-0.7024j,\n",
            "         0.7047+0.7045j, -0.7023+0.6920j,  0.7090-0.7069j,  0.6995+0.7025j,\n",
            "         0.7065-0.6962j,  0.6964+0.7012j,  0.7049+0.7046j, -0.7048+0.6999j,\n",
            "        -0.6912-0.7118j, -0.7036+0.6961j,  0.7033+0.7037j, -0.6976-0.7126j,\n",
            "        -0.6889-0.7113j, -0.7063+0.7041j,  0.6551+0.6619j,  0.7107-0.7097j,\n",
            "         0.5131+0.3121j, -0.6926-0.7040j, -0.6946-0.7066j, -0.6253-0.6970j],\n",
            "       device='cuda:0', grad_fn=<SelectBackward0>)\n",
            "tensor([ 0.7886-0.4349j, -1.0582+0.6373j, -0.4457-0.7987j, -0.9268+0.2773j,\n",
            "         1.4220-0.5590j, -0.7568-1.0559j,  3.4181-0.1776j,  0.9537-0.5685j,\n",
            "        -1.1010+0.1787j, -0.2390-0.5679j, -0.9624+0.4814j,  0.7702-0.6058j,\n",
            "         0.3507+0.9442j,  0.7812-0.3739j,  0.7907-0.4743j,  0.4635+0.9914j,\n",
            "        -0.4384-0.8098j, -0.8425+0.5961j,  0.9521-0.4549j, -0.4537-0.8964j,\n",
            "        -0.4925-0.8986j, -0.4472-0.8909j, -0.8401+0.4587j,  0.8131-0.4994j,\n",
            "        -0.9845+0.5156j, -1.0048+0.4769j,  0.3619+0.8979j,  0.8684-0.4745j,\n",
            "         0.5263+0.8780j, -0.8865+0.4042j,  0.8250-0.5381j,  0.4624+0.8737j,\n",
            "         0.9521-0.4235j,  0.3934+0.7593j,  0.5599+0.8983j, -0.8229+0.4876j,\n",
            "        -0.4448-0.8472j, -0.9174+0.4678j,  0.5431+0.9167j, -0.5392-0.8521j,\n",
            "        -0.4591-0.9115j, -0.9338+0.7386j,  0.2743+0.5342j,  1.1461-0.8231j,\n",
            "         0.3759+0.1062j, -0.6453-0.4706j, -0.7188-0.5287j, -0.2614-0.9896j],\n",
            "       device='cuda:0')\n"
          ]
        }
      ]
    },
    {
      "cell_type": "code",
      "source": [
        "out = out.detach().to('cpu').numpy()\n",
        "X = [x.real for x in out]\n",
        "Y = [x.imag for x in out]\n",
        "plt.scatter(X,Y, color='red')"
      ],
      "metadata": {
        "colab": {
          "base_uri": "https://localhost:8080/",
          "height": 282
        },
        "id": "bNo2iqGt1K3s",
        "outputId": "5f7742b5-53f3-4129-b857-aae1538936d5"
      },
      "execution_count": null,
      "outputs": [
        {
          "output_type": "execute_result",
          "data": {
            "text/plain": [
              "<matplotlib.collections.PathCollection at 0x7f6f50cbd990>"
            ]
          },
          "metadata": {},
          "execution_count": 48
        },
        {
          "output_type": "display_data",
          "data": {
            "text/plain": [
              "<Figure size 432x288 with 1 Axes>"
            ],
            "image/png": "[encoded data removed]"
          },
          "metadata": {
            "needs_background": "light"
          }
        }
      ]
    },
    {
      "cell_type": "code",
      "source": [
        "test_noisy_data_tensor = test_noisy_data_tensor.detach().to('cpu').numpy()\n",
        "X = [x.real for x in test_noisy_data_tensor]\n",
        "Y = [x.imag for x in test_noisy_data_tensor]\n",
        "plt.scatter(X,Y, color='red')"
      ],
      "metadata": {
        "colab": {
          "base_uri": "https://localhost:8080/",
          "height": 282
        },
        "id": "QnXRKBSU3tLu",
        "outputId": "b09ed1ec-02e0-401c-f6c8-c5a677633e39"
      },
      "execution_count": null,
      "outputs": [
        {
          "output_type": "execute_result",
          "data": {
            "text/plain": [
              "<matplotlib.collections.PathCollection at 0x7f6f50f614d0>"
            ]
          },
          "metadata": {},
          "execution_count": 49
        },
        {
          "output_type": "display_data",
          "data": {
            "text/plain": [
              "<Figure size 432x288 with 1 Axes>"
            ],
            "image/png": "[encoded data removed]"
          },
          "metadata": {
            "needs_background": "light"
          }
        }
      ]
    },
    {
      "cell_type": "code",
      "source": [
        "plt.scatter(np.real(recon_data),np.imag(recon_data))"
      ],
      "metadata": {
        "colab": {
          "base_uri": "https://localhost:8080/",
          "height": 282
        },
        "id": "KpGCG1dC2-iS",
        "outputId": "9b08c641-bd60-4064-ef7b-d59f6267921c"
      },
      "execution_count": null,
      "outputs": [
        {
          "output_type": "execute_result",
          "data": {
            "text/plain": [
              "<matplotlib.collections.PathCollection at 0x7f823914b350>"
            ]
          },
          "metadata": {},
          "execution_count": 22
        },
        {
          "output_type": "display_data",
          "data": {
            "text/plain": [
              "<Figure size 432x288 with 1 Axes>"
            ],
            "image/png": "[encoded data removed]"
          },
          "metadata": {
            "needs_background": "light"
          }
        }
      ]
    },
    {
      "cell_type": "code",
      "source": [
        "xt = np.transpose(x_test)\n",
        "x_recon = np.transpose(recon_data)\n",
        "print(xt.shape)\n",
        "print(x_recon.shape)"
      ],
      "metadata": {
        "colab": {
          "base_uri": "https://localhost:8080/"
        },
        "id": "bgzvQgRIEdXg",
        "outputId": "b4cce3e3-23a3-48fa-8d63-57ab2d27fbd3"
      },
      "execution_count": null,
      "outputs": [
        {
          "output_type": "stream",
          "name": "stdout",
          "text": [
            "(48, 6820)\n",
            "(48, 6820)\n"
          ]
        }
      ]
    },
    {
      "cell_type": "code",
      "source": [
        "sio.savemat('/content/drive/MyDrive/IQ_sample_data/GAN_QPSK_data/thz_test_symbols.mat',mdict={'xt': xt})\n",
        "sio.savemat('/content/drive/MyDrive/IQ_sample_data/GAN_QPSK_data/thz_recon_symbols.mat',mdict={'x_recon': x_recon})"
      ],
      "metadata": {
        "id": "8UKtcSglEmUu"
      },
      "execution_count": null,
      "outputs": []
    },
    {
      "cell_type": "code",
      "execution_count": null,
      "metadata": {
        "colab": {
          "base_uri": "https://localhost:8080/"
        },
        "id": "T5iC4UlSN9lt",
        "outputId": "847b31f0-990b-4bae-dda3-8fd9bea75cf2"
      },
      "outputs": [
        {
          "data": {
            "text/plain": [
              "(34560, 48)"
            ]
          },
          "execution_count": 16,
          "metadata": {},
          "output_type": "execute_result"
        }
      ],
      "source": [
        "recon_data.shape"
      ]
    },
    {
      "cell_type": "code",
      "execution_count": null,
      "metadata": {
        "colab": {
          "base_uri": "https://localhost:8080/"
        },
        "id": "VvrGcVAoJfue",
        "outputId": "73b175c3-20b0-4d70-a481-8f507c38933a"
      },
      "outputs": [
        {
          "output_type": "stream",
          "name": "stdout",
          "text": [
            "0.006384408602150538\n",
            "0.006456195014662757\n"
          ]
        }
      ],
      "source": [
        "recon_data = recon_data.reshape(-1)\n",
        "eq_symbols = eq_symbols.reshape(-1)\n",
        "orig_symbols = orig_symbols.reshape(-1)\n",
        "\n",
        "\n",
        "orig_bits = obj_QPSK.demodulate(received=orig_symbols,decision_method='hard')\n",
        "eq_bits = obj_QPSK.demodulate(received=eq_symbols,decision_method='hard')\n",
        "recon_bits = obj_QPSK.demodulate(received=recon_data,decision_method='hard')\n",
        "\n",
        "num_bits = len(orig_bits)\n",
        "\n",
        "num_error_eq = np.sum(eq_bits != orig_bits)\n",
        "print(num_error_eq/num_bits)\n",
        "\n",
        "num_error = np.sum(recon_bits != orig_bits)\n",
        "print(num_error/num_bits)"
      ]
    },
    {
      "cell_type": "code",
      "execution_count": null,
      "metadata": {
        "colab": {
          "base_uri": "https://localhost:8080/"
        },
        "id": "9xj9KtPaJ0Pr",
        "outputId": "7187f862-7576-4e20-a59a-5371f03ddd4b"
      },
      "outputs": [
        {
          "output_type": "stream",
          "name": "stdout",
          "text": [
            "[2770, 28864, 28886, 29064, 29447, 29646, 29737, 29743, 30028, 30516, 30517, 30885, 31011, 31039, 31083, 31096, 31158, 31303, 31348, 31446, 31854, 31948, 31961, 32022, 32328, 32622, 42897, 43183, 43568, 46833, 52020, 52326, 52496, 52691, 52798, 55363, 55856, 56823, 58150, 58743, 58929, 59129, 59487, 59592, 59790, 61111, 61915, 62491, 62767, 63921, 65169, 65271, 65356, 65655, 65659, 65839, 66893, 67561, 68146, 68246, 68528, 68637, 68898, 68926, 71983, 75438, 75442, 88494, 88970, 89164, 89171, 89547, 90986, 90991, 92521, 92819, 93109, 93113, 93581, 94733, 95025, 95028, 95684, 99621, 100879, 101070, 101079, 101174, 101654, 104822, 105625, 105864, 105903, 105945, 106007, 106048, 106080, 106169, 106310, 106312, 106326, 106329, 106355, 106361, 106456, 106614, 106681, 106755, 106916, 107019, 107182, 107199, 107326, 107458, 107465, 108173, 108268, 111252, 111342, 114996, 115085, 117395, 117442, 118345, 118726, 119216, 119494, 120265, 120493, 120555, 120575, 120844, 121510, 121534, 121619, 121711, 121714, 122385, 122680, 122763, 122855, 124877, 125553, 126412, 127084, 127857, 130638, 131512, 132081, 144271, 161302, 161929, 162454, 166000, 166631, 166964, 168642, 168788, 168881, 168882, 169266, 169748, 170267, 170379, 170761, 171241, 171382, 171717, 171758, 172773, 173111, 173586, 173977, 174075, 174263, 174745, 175596, 175940, 176131, 176515, 177812, 178964, 178972, 179783, 180021, 181360, 182041, 182612, 183195, 183429, 183951, 184104, 184149, 184151, 189524, 192114, 193842, 195045, 195668, 196054, 198066, 198258, 201670, 201958, 204982, 210837, 212180, 234550, 261183, 262098, 262241, 262673, 262956, 263251, 263294, 263553, 264212, 264404, 264736, 264881, 265561, 265604, 266041, 266222, 266807, 267379, 267770, 267860, 268060, 268349, 268527, 268631, 268863, 269154, 269249, 270504, 271220, 271270, 271460, 273196, 274241, 275107, 276257, 276649, 276700, 277473, 277489, 277922, 278085, 278712, 279518, 279905, 280431, 280537, 280579, 280864, 281064, 281881, 282169, 282405, 282431, 282692, 283890, 284129, 284133, 303471, 303724, 303818, 304100, 304194, 304344, 304483, 304581, 304691, 305061, 305161, 305260, 305353, 305363, 305657, 305732, 305821, 305868, 305911, 305918, 306219, 306501, 307122, 308129, 309086, 309475, 310337, 311783, 316582, 316870, 317447, 317734, 318787, 321950, 322245, 322249, 322497, 322820, 325414, 326470, 327141, 327625, 327711, 328003, 329728, 330013, 331748, 332761, 332765, 332898, 333209, 333479, 334727, 335680, 335682, 336267, 336548, 336651, 336929, 337890, 337994, 338269, 338559, 339040, 339046, 339050, 339521, 340200, 340769, 340968, 341348, 341736, 343076, 343649, 343650, 365155, 365636, 365831, 366017, 366021, 366976, 367459, 372068, 378498, 381762, 420545, 420591, 420621, 420654, 420659, 420695, 420859, 420923, 421378, 421988, 422259, 422367, 422471, 422558, 422588, 422655, 423380, 423732, 423996, 424101, 424263, 424290, 425486, 427673, 431245, 432763, 433339, 433739, 434488, 434702, 434967, 436039, 436312, 437675, 438040, 438902, 439096, 439286, 439295, 439870, 439877, 440254, 440350, 440364, 440633, 441310, 441689, 441981, 442762, 442859, 445355, 445529, 447065, 447756, 448313, 448889, 448987, 450631, 450831, 452150, 452630, 453497, 453880, 454861, 457720, 458009, 458489, 458967, 460906, 461085, 461178, 461770, 461847, 462425, 463193, 463688, 464168, 464535, 464924, 465304, 465688, 465784, 467720, 467894, 468205, 469433, 469739, 470604, 474923, 477034, 477978, 478093, 478191, 478474, 479323, 479342, 479899, 480491, 481721, 482395, 482508, 483181, 484055, 484139, 484336, 484408, 484985, 485276, 485296, 485656, 486138, 487675, 489303, 490554, 490859, 490936, 491225, 493165, 494105, 494220, 495465, 495544, 496230, 496427, 496503, 496551, 496563, 496573, 496736, 497314, 497386, 497450, 497548, 497660, 497710, 498095, 498325, 498657, 498689, 498896, 498959, 499125, 499479, 499555, 499598, 499636, 500049, 500107, 500568, 500721, 500758, 500795, 501238, 501662, 501854, 502010, 502199, 502208, 502250, 502300, 502916, 502925, 512726, 512804, 513289, 513576, 514243, 514252, 514356, 514972, 515879, 516169, 518571, 520876, 526684, 527308, 527448, 527480, 527592, 527982, 528312, 528694, 528757, 529132, 529368, 531051, 531242, 531865, 532200, 532390, 532439, 532484, 532493, 532594, 532873, 533597, 535374, 535758, 535952, 538542, 539111, 539791, 540737, 540750, 540843, 541468, 542276, 542478, 543049, 545402, 547470, 557066, 557689, 558702, 559276, 559279, 559713, 559744, 559851, 559855, 560133, 561675, 562062, 562585, 562831, 563029, 563063, 563110, 563153, 563352, 563886, 564256, 565113, 565497, 565710, 565753, 565827, 565949, 565952, 566017, 566071, 566083, 566324, 566329, 566360, 567001, 567259, 567397, 567604, 567996, 568124, 568246, 571852, 589374, 590374, 591867, 595948, 596721, 604588, 604776, 646681, 646734, 647448, 647979, 650957]\n"
          ]
        }
      ],
      "source": [
        "idx = []\n",
        "for i in range(num_bits):\n",
        "    if(recon_bits[i] != orig_bits[i]) and (eq_bits[i] == orig_bits[i]):\n",
        "        idx.append(i)\n",
        "\n",
        "print(idx)"
      ]
    },
    {
      "cell_type": "code",
      "execution_count": null,
      "metadata": {
        "colab": {
          "base_uri": "https://localhost:8080/"
        },
        "id": "6GLn5OKBLTMb",
        "outputId": "1a7c4380-9a1e-42ac-de53-7d217937b066"
      },
      "outputs": [
        {
          "output_type": "stream",
          "name": "stdout",
          "text": [
            "[1 1 0]\n",
            "[1 0 0]\n",
            "[1 0 0]\n"
          ]
        }
      ],
      "source": [
        "print(recon_bits[2769:2772]) \n",
        "print(orig_bits[2769:2772])\n",
        "print(eq_bits[2769:2772])"
      ]
    },
    {
      "cell_type": "code",
      "execution_count": null,
      "metadata": {
        "colab": {
          "base_uri": "https://localhost:8080/"
        },
        "id": "7c_RSWyWMKqh",
        "outputId": "dceb7076-136f-4e51-d8f2-095a5c841ad0"
      },
      "outputs": [
        {
          "output_type": "stream",
          "name": "stdout",
          "text": [
            "[ 0.7083737 +0.6858903j -0.03764873-0.7155926j]\n",
            "[0.8550404 +0.92604953j 0.07575124-0.6014512j ]\n",
            "[0.70710677+0.70710677j 0.70710677-0.70710677j]\n"
          ]
        }
      ],
      "source": [
        "print(recon_data[580:582])\n",
        "print(eq_symbols[580:582]) \n",
        "print(orig_symbols[580:582])"
      ]
    },
    {
      "cell_type": "code",
      "execution_count": null,
      "metadata": {
        "colab": {
          "base_uri": "https://localhost:8080/"
        },
        "id": "s96hgzE0PZeE",
        "outputId": "d5b8fbd1-4f0a-49b5-f65f-38b94def8594"
      },
      "outputs": [
        {
          "output_type": "stream",
          "name": "stdout",
          "text": [
            "[-0.704458  -0.7065191j  -0.44084343+0.70905244j -0.70859915+0.708374j\n",
            " -0.71040046-0.7091133j ]\n",
            "[-1.259874  -0.6761349j   0.01753388+1.1095852j  -1.1051635 +0.9757316j\n",
            " -0.49550948-0.38228723j]\n",
            "[-0.70710677-0.70710677j  0.70710677+0.70710677j -0.70710677+0.70710677j\n",
            " -0.70710677-0.70710677j]\n"
          ]
        }
      ],
      "source": [
        "print(recon_data[1384:1388])\n",
        "print(eq_symbols[1384:1388]) \n",
        "print(orig_symbols[1384:1388])"
      ]
    },
    {
      "cell_type": "code",
      "execution_count": null,
      "metadata": {
        "id": "X343kUCmt99K"
      },
      "outputs": [],
      "source": []
    },
    {
      "cell_type": "code",
      "execution_count": null,
      "metadata": {
        "colab": {
          "base_uri": "https://localhost:8080/",
          "height": 300
        },
        "id": "cQp1Zmod5gnD",
        "outputId": "a973ca64-3b15-457c-bc28-101632ab5930"
      },
      "outputs": [
        {
          "name": "stdout",
          "output_type": "stream",
          "text": [
            "(15552, 1)\n"
          ]
        },
        {
          "data": {
            "text/plain": [
              "<function matplotlib.pyplot.show>"
            ]
          },
          "execution_count": 76,
          "metadata": {},
          "output_type": "execute_result"
        },
        {
          "data": {
            "image/png": "[encoded data removed]",
            "text/plain": [
              "<Figure size 432x288 with 1 Axes>"
            ]
          },
          "metadata": {
            "needs_background": "light"
          },
          "output_type": "display_data"
        }
      ],
      "source": [
        "test_loss = nn.MSELoss(reduction='none')\n",
        "l = test_loss(y_out,x_clean_test)\n",
        "l=l.detach().to('cpu').numpy()\n",
        "l=l.reshape(-1,1)\n",
        "print(l.shape)\n",
        "plt.plot(range(l.shape[0]),l[:,0])\n",
        "plt.show"
      ]
    },
    {
      "cell_type": "code",
      "execution_count": null,
      "metadata": {
        "colab": {
          "base_uri": "https://localhost:8080/"
        },
        "id": "nqKUT5Ay8X8G",
        "outputId": "b324b874-434b-4082-a40a-8aa0013f7841"
      },
      "outputs": [
        {
          "data": {
            "text/plain": [
              "0.00019766322"
            ]
          },
          "execution_count": 77,
          "metadata": {},
          "output_type": "execute_result"
        }
      ],
      "source": [
        "l[5500,0]"
      ]
    },
    {
      "cell_type": "code",
      "execution_count": null,
      "metadata": {
        "id": "6dm-Dbxc4n63"
      },
      "outputs": [],
      "source": [
        "a = recon_data.reshape(-1,1)"
      ]
    },
    {
      "cell_type": "code",
      "execution_count": null,
      "metadata": {
        "id": "Ujr2TyAngH5a"
      },
      "outputs": [],
      "source": [
        "recon_bits = obj.demodulate(received=a[:,0],decision_method='hard')"
      ]
    },
    {
      "cell_type": "code",
      "execution_count": null,
      "metadata": {
        "id": "2UHpjacvfXsq"
      },
      "outputs": [],
      "source": [
        "b = clean_val.reshape(-1,1)\n",
        "c = LS_val.reshape(-1,1)"
      ]
    },
    {
      "cell_type": "code",
      "execution_count": null,
      "metadata": {
        "colab": {
          "base_uri": "https://localhost:8080/"
        },
        "id": "fBtv0jmmqUUT",
        "outputId": "db35f6aa-e957-479e-d91a-68149a20e607"
      },
      "outputs": [
        {
          "data": {
            "text/plain": [
              "array([[ 0.01815498-0.32432482j],\n",
              "       [-0.41054186+0.9585583j ],\n",
              "       [-0.65374565+0.95595586j]], dtype=complex64)"
            ]
          },
          "execution_count": 83,
          "metadata": {},
          "output_type": "execute_result"
        }
      ],
      "source": [
        "a[86:89]"
      ]
    },
    {
      "cell_type": "code",
      "execution_count": null,
      "metadata": {
        "colab": {
          "base_uri": "https://localhost:8080/"
        },
        "id": "po_yKrfiqaTJ",
        "outputId": "0898c14a-d1bc-4e5c-aa6e-ab1cd858dce6"
      },
      "outputs": [
        {
          "data": {
            "text/plain": [
              "array([[ 0.31622776-0.31622776j],\n",
              "       [-0.31622776+0.9486833j ],\n",
              "       [-0.31622776+0.9486833j ]], dtype=complex64)"
            ]
          },
          "execution_count": 84,
          "metadata": {},
          "output_type": "execute_result"
        }
      ],
      "source": [
        "b[86:89]"
      ]
    },
    {
      "cell_type": "code",
      "execution_count": null,
      "metadata": {
        "colab": {
          "base_uri": "https://localhost:8080/"
        },
        "id": "2sMx-2LZqqrO",
        "outputId": "045fd372-c1f4-4dd5-fc76-02c0bb6ede7f"
      },
      "outputs": [
        {
          "data": {
            "text/plain": [
              "array([[ 0.01606097-0.33154556j],\n",
              "       [-0.39788905+1.0296724j ],\n",
              "       [-0.6135443 +1.0527402j ]], dtype=complex64)"
            ]
          },
          "execution_count": 85,
          "metadata": {},
          "output_type": "execute_result"
        }
      ],
      "source": [
        "c[86:89]"
      ]
    },
    {
      "cell_type": "code",
      "execution_count": null,
      "metadata": {
        "id": "R_sJahg1ghbj"
      },
      "outputs": [],
      "source": [
        "orig_bits = obj.demodulate(received=b[:,0],decision_method='hard')\n",
        "eq_bits = obj.demodulate(received=c[:,0],decision_method='hard')"
      ]
    },
    {
      "cell_type": "code",
      "execution_count": null,
      "metadata": {
        "id": "gdeJoSN1hWwn"
      },
      "outputs": [],
      "source": [
        "num_bits = orig_bits.shape[0]"
      ]
    },
    {
      "cell_type": "code",
      "execution_count": null,
      "metadata": {
        "colab": {
          "base_uri": "https://localhost:8080/"
        },
        "id": "6DEFd34WiTgF",
        "outputId": "1353a161-9ba3-4d93-acce-a50af9011a24"
      },
      "outputs": [
        {
          "name": "stdout",
          "output_type": "stream",
          "text": [
            "0.019344376929012346\n"
          ]
        }
      ],
      "source": [
        "num_error_eq = np.sum(eq_bits != orig_bits)\n",
        "print(num_error_eq/num_bits)"
      ]
    },
    {
      "cell_type": "code",
      "execution_count": null,
      "metadata": {
        "colab": {
          "base_uri": "https://localhost:8080/"
        },
        "id": "igGauY6Og5i9",
        "outputId": "7f4c749c-f829-4828-fabd-d61531a011a7"
      },
      "outputs": [
        {
          "name": "stdout",
          "output_type": "stream",
          "text": [
            "0.020293812692901234\n"
          ]
        }
      ],
      "source": [
        "num_error = np.sum(recon_bits != orig_bits)\n",
        "print(num_error/num_bits)"
      ]
    },
    {
      "cell_type": "code",
      "execution_count": null,
      "metadata": {
        "colab": {
          "base_uri": "https://localhost:8080/"
        },
        "id": "S_BUdZVZfGst",
        "outputId": "70122b90-586f-4461-e238-f44712cfb41e"
      },
      "outputs": [
        {
          "data": {
            "text/plain": [
              "6635520"
            ]
          },
          "execution_count": 43,
          "metadata": {},
          "output_type": "execute_result"
        }
      ],
      "source": [
        "num_bits"
      ]
    },
    {
      "cell_type": "code",
      "execution_count": null,
      "metadata": {
        "id": "Ke_THYOOd_mB"
      },
      "outputs": [],
      "source": [
        "idx = []\n",
        "for i in range(num_bits):\n",
        "    if(recon_bits[i] != orig_bits[i]) and (eq_bits[i] == orig_bits[i]):\n",
        "        idx.append(i)\n",
        "        "
      ]
    },
    {
      "cell_type": "code",
      "execution_count": null,
      "metadata": {
        "colab": {
          "base_uri": "https://localhost:8080/"
        },
        "id": "zQOBQhevh_aa",
        "outputId": "4971c6c7-789e-454d-d01e-54ff19736e39"
      },
      "outputs": [
        {
          "name": "stdout",
          "output_type": "stream",
          "text": [
            "[352, 974, 2045, 2570, 2778, 2780, 3425, 3984, 4758, 4762, 4776, 5240, 5366, 5396, 5780, 5800]\n"
          ]
        }
      ],
      "source": [
        "print(idx[0:16])"
      ]
    },
    {
      "cell_type": "code",
      "execution_count": null,
      "metadata": {
        "colab": {
          "base_uri": "https://localhost:8080/"
        },
        "id": "zBDrfFdBeJwO",
        "outputId": "55de03f0-f1b9-48bd-8d52-58db983a64f3"
      },
      "outputs": [
        {
          "name": "stdout",
          "output_type": "stream",
          "text": [
            "[0 0 0 1 1 0 1 1 0 1 1 0 0 0 0 0]\n",
            "[1 1 1 0 0 1 0 0 1 0 0 1 1 1 1 1]\n",
            "[1 1 1 0 0 1 0 0 1 0 0 1 1 1 1 1]\n"
          ]
        }
      ],
      "source": [
        "print(recon_bits[idx[0:16]])\n",
        "print(eq_bits[idx[0:16]])\n",
        "print(orig_bits[idx[0:16]])"
      ]
    },
    {
      "cell_type": "code",
      "execution_count": null,
      "metadata": {
        "id": "ingMUHRijPx1"
      },
      "outputs": [],
      "source": [
        "print(recon_bits[0:350])\n",
        "print(eq_bits[0:350])\n",
        "print(orig_bits[0:350])"
      ]
    },
    {
      "cell_type": "code",
      "execution_count": null,
      "metadata": {
        "colab": {
          "base_uri": "https://localhost:8080/"
        },
        "id": "uI42mIMDlkb_",
        "outputId": "5385d3d8-83d9-4de2-8faa-b59625955973"
      },
      "outputs": [
        {
          "name": "stdout",
          "output_type": "stream",
          "text": [
            "0.014124293785310734\n"
          ]
        }
      ],
      "source": [
        "num_bits = len(orig_bits[0:354])\n",
        "num_error_eq = np.sum(eq_bits[0:354] != orig_bits[0:354])\n",
        "print(num_error_eq/num_bits)"
      ]
    },
    {
      "cell_type": "code",
      "execution_count": null,
      "metadata": {
        "colab": {
          "base_uri": "https://localhost:8080/"
        },
        "id": "RI6eUC_dl5gd",
        "outputId": "facf978a-6848-4ebf-a24b-676799940707"
      },
      "outputs": [
        {
          "name": "stdout",
          "output_type": "stream",
          "text": [
            "0.014124293785310734\n"
          ]
        }
      ],
      "source": [
        "num_bits = len(orig_bits[0:354])\n",
        "num_error = np.sum(recon_bits[0:354] != orig_bits[0:354])\n",
        "print(num_error/num_bits)"
      ]
    },
    {
      "cell_type": "code",
      "execution_count": null,
      "metadata": {
        "colab": {
          "base_uri": "https://localhost:8080/"
        },
        "id": "dURmp2_emvAb",
        "outputId": "31062a27-b032-44d1-b9c9-b9d1df4b81a8"
      },
      "outputs": [
        {
          "name": "stdout",
          "output_type": "stream",
          "text": [
            "range(0, 345)\n"
          ]
        }
      ],
      "source": []
    },
    {
      "cell_type": "code",
      "execution_count": null,
      "metadata": {
        "colab": {
          "base_uri": "https://localhost:8080/",
          "height": 295
        },
        "id": "FX-lCOnOU5Ig",
        "outputId": "9db1bf9a-b3b6-4609-c48a-18bb5eec9e1e"
      },
      "outputs": [
        {
          "data": {
            "image/png": "[encoded data removed]",
            "text/plain": [
              "<Figure size 432x288 with 1 Axes>"
            ]
          },
          "metadata": {
            "needs_background": "light"
          },
          "output_type": "display_data"
        }
      ],
      "source": [
        "plt.plot(range(test_mse_loss_eq.shape[0]),test_mse_loss_eq[:],label='MSE LS equalized symbol')\n",
        "plt.plot(range(test_mse_loss.shape[0]),test_mse_loss[:], label='MSE NN equalized symbol')\n",
        "plt.ylim([0.001, 0.5])\n",
        "plt.xlabel(\"Over all batch of test data\")\n",
        "plt.ylabel(\"MSE\")\n",
        "plt.title('MSE comparison(at '+str(snr_)+'dB)')\n",
        "plt.legend()\n",
        "plt.savefig('/content/drive/MyDrive/IQ_sample_data/GAN_16_QAM_data/'+str(snr_)+'dB_16QAM_MSE.png')\n",
        "plt.show()\n"
      ]
    },
    {
      "cell_type": "code",
      "execution_count": null,
      "metadata": {
        "colab": {
          "base_uri": "https://localhost:8080/",
          "height": 281
        },
        "id": "0BgTLYp4XKDu",
        "outputId": "cf50e0a9-00ec-41c1-b10a-11ea305fe21e"
      },
      "outputs": [
        {
          "data": {
            "image/png": "[encoded data removed]",
            "text/plain": [
              "<Figure size 432x288 with 1 Axes>"
            ]
          },
          "metadata": {
            "needs_background": "light"
          },
          "output_type": "display_data"
        }
      ],
      "source": [
        "plt.title('Constellation diagram (at '+str(snr_)+'dB)')\n",
        "plt.scatter(np.real(recon_data[100:110]), np.imag(recon_data[100:110]))\n",
        "plt.savefig('/content/drive/MyDrive/IQ_sample_data/GAN_16_QAM_data/'+str(snr_)+'dB_16QAM_Constellation.png')"
      ]
    },
    {
      "cell_type": "code",
      "execution_count": null,
      "metadata": {
        "colab": {
          "base_uri": "https://localhost:8080/",
          "height": 281
        },
        "id": "cCHPh5NDIfPs",
        "outputId": "daaac89b-4430-45c4-91c9-f556cb8ab42a"
      },
      "outputs": [
        {
          "data": {
            "image/png": "[encoded data removed]",
            "text/plain": [
              "<Figure size 432x288 with 1 Axes>"
            ]
          },
          "metadata": {
            "needs_background": "light"
          },
          "output_type": "display_data"
        }
      ],
      "source": [
        "plt.title('Constellation diagram (at '+str(snr_)+'dB)')\n",
        "plt.scatter(np.real(LS_val[100:110]), np.imag(LS_val[100:110]))\n",
        "plt.savefig('/content/drive/MyDrive/IQ_sample_data/GAN_16_QAM_data/'+str(snr_)+'dB_16QAM_Constellation_LS.png')"
      ]
    },
    {
      "cell_type": "code",
      "execution_count": null,
      "metadata": {
        "id": "IR8FGAnMwkw7"
      },
      "outputs": [],
      "source": [
        "sio.savemat('/content/drive/MyDrive/IQ_sample_data/GAN_16_QAM_data/recon_signal_'+str(snr_)+'dB.mat',mdict={'recon_data': recon_data})\n",
        "sio.savemat('/content/drive/MyDrive/IQ_sample_data/GAN_16_QAM_data/original_val_signal_'+str(snr_)+'dB.mat',mdict={'clean_val': clean_val})"
      ]
    },
    {
      "cell_type": "code",
      "execution_count": null,
      "metadata": {
        "colab": {
          "base_uri": "https://localhost:8080/"
        },
        "id": "FABlm4zVnbUN",
        "outputId": "1bd76c5a-66d1-47a8-b2ed-e9f3985da872"
      },
      "outputs": [
        {
          "data": {
            "text/plain": [
              "tensor([[ 0.3162,  0.9487, -0.9487,  0.9487,  0.9487,  0.3162, -0.9487, -0.9487,\n",
              "          0.9487,  0.3162, -0.3162, -0.3162, -0.3162, -0.9487, -0.3162,  0.3162,\n",
              "         -0.3162, -0.9487, -0.3162, -0.9487,  0.3162,  0.3162, -0.9487,  0.9487,\n",
              "          0.9487, -0.9487,  0.3162,  0.3162,  0.9487, -0.3162, -0.3162, -0.9487,\n",
              "          0.3162, -0.3162,  0.3162,  0.3162, -0.9487,  0.3162,  0.9487, -0.9487,\n",
              "         -0.3162,  0.9487,  0.9487, -0.9487,  0.9487, -0.3162,  0.3162, -0.3162],\n",
              "        [ 0.9487, -0.9487,  0.9487, -0.9487, -0.3162,  0.3162,  0.3162, -0.3162,\n",
              "          0.9487, -0.9487,  0.9487, -0.3162,  0.3162,  0.3162,  0.3162, -0.3162,\n",
              "          0.9487, -0.3162,  0.9487, -0.3162, -0.9487, -0.3162, -0.9487,  0.9487,\n",
              "          0.3162,  0.9487, -0.3162,  0.3162,  0.3162, -0.9487,  0.9487,  0.9487,\n",
              "         -0.3162,  0.3162,  0.3162,  0.3162, -0.9487, -0.3162,  0.3162,  0.3162,\n",
              "          0.3162,  0.9487,  0.3162,  0.9487,  0.9487,  0.9487,  0.9487,  0.3162]],\n",
              "       device='cuda:0')"
            ]
          },
          "execution_count": 160,
          "metadata": {},
          "output_type": "execute_result"
        }
      ],
      "source": [
        "x_clean_test[100,:,:]"
      ]
    },
    {
      "cell_type": "code",
      "execution_count": null,
      "metadata": {
        "id": "t65fXPpVuFSv"
      },
      "outputs": [],
      "source": [
        "x_equalize[400,:,:]"
      ]
    },
    {
      "cell_type": "code",
      "execution_count": null,
      "metadata": {
        "colab": {
          "base_uri": "https://localhost:8080/"
        },
        "id": "11v9HLQwnh6K",
        "outputId": "3dffb4b1-d731-4ce8-f82e-c5464188952d"
      },
      "outputs": [
        {
          "data": {
            "text/plain": [
              "tensor([[ 0.3419,  0.9125, -0.8916,  0.9266,  0.9593,  0.2379, -0.9245, -0.9001,\n",
              "          0.8961,  0.1726, -0.1694, -0.3905, -0.2356, -0.9862, -0.1940,  0.1286,\n",
              "         -0.0905, -0.9753, -0.3089, -0.8785,  0.3511,  0.2707, -0.9330,  0.9266,\n",
              "          0.9557, -0.9550,  0.4011,  0.3870,  0.9272, -0.2722, -0.2133, -0.8225,\n",
              "          0.3241, -0.3229,  0.3132,  0.2969, -0.9491,  0.3875,  0.9634, -0.9242,\n",
              "         -0.2948,  0.9639,  0.9761, -0.8726,  0.9291, -0.3189,  0.3241, -0.2501],\n",
              "        [ 0.9091, -0.9540,  0.9502, -0.8927, -0.2147,  0.2168,  0.1023, -0.2548,\n",
              "          0.9073, -0.8260,  0.9739, -0.3237,  0.1670,  0.4276,  0.4114, -0.5310,\n",
              "          0.7326, -0.3235,  0.9406, -0.2748, -0.9776, -0.2195, -0.9229,  0.9351,\n",
              "          0.2924,  0.9977, -0.3912,  0.7091,  0.4311, -0.8963,  0.9533,  0.8786,\n",
              "         -0.3125,  0.3740,  0.3146,  0.2845, -0.9762, -0.2913,  0.3092,  0.3566,\n",
              "          0.2198,  0.8790,  0.4054,  0.9743,  0.9414,  0.9284,  0.9699,  0.3350]],\n",
              "       device='cuda:0', grad_fn=<SliceBackward0>)"
            ]
          },
          "execution_count": 161,
          "metadata": {},
          "output_type": "execute_result"
        }
      ],
      "source": [
        "y_out[100,:,:]"
      ]
    },
    {
      "cell_type": "code",
      "execution_count": null,
      "metadata": {
        "id": "P-lhAKL-TTRG"
      },
      "outputs": [],
      "source": [
        "for noisy in noisy_train_data_loader:\n",
        "    out = p_net(noisy)\n",
        "    print(out.shape)"
      ]
    }
  ],
  "metadata": {
    "accelerator": "GPU",
    "colab": {
      "provenance": []
    },
    "gpuClass": "standard",
    "kernelspec": {
      "display_name": "Python 3 (ipykernel)",
      "language": "python",
      "name": "python3"
    },
    "language_info": {
      "codemirror_mode": {
        "name": "ipython",
        "version": 3
      },
      "file_extension": ".py",
      "mimetype": "text/x-python",
      "name": "python",
      "nbconvert_exporter": "python",
      "pygments_lexer": "ipython3",
      "version": "3.10.6"
    },
    "widgets": {
      "application/vnd.jupyter.widget-state+json": {
        "05349769010946e69f11d77435e0916a": {
          "model_module": "@jupyter-widgets/controls",
          "model_module_version": "1.5.0",
          "model_name": "HBoxModel",
          "state": {
            "_dom_classes": [],
            "_model_module": "@jupyter-widgets/controls",
            "_model_module_version": "1.5.0",
            "_model_name": "HBoxModel",
            "_view_count": null,
            "_view_module": "@jupyter-widgets/controls",
            "_view_module_version": "1.5.0",
            "_view_name": "HBoxView",
            "box_style": "",
            "children": [
              "IPY_MODEL_4a7d2111880b4b5ba42b9f59ec270921",
              "IPY_MODEL_d668df1d065c41b9933f704694e56616",
              "IPY_MODEL_3e39a5cfda6a4498b6493ed4f7296118"
            ],
            "layout": "IPY_MODEL_a949fce576d94f688a19a796cb1414ff"
          }
        },
        "126d37e365d04e358ab994982fbb67c7": {
          "model_module": "@jupyter-widgets/base",
          "model_module_version": "1.2.0",
          "model_name": "LayoutModel",
          "state": {
            "_model_module": "@jupyter-widgets/base",
            "_model_module_version": "1.2.0",
            "_model_name": "LayoutModel",
            "_view_count": null,
            "_view_module": "@jupyter-widgets/base",
            "_view_module_version": "1.2.0",
            "_view_name": "LayoutView",
            "align_content": null,
            "align_items": null,
            "align_self": null,
            "border": null,
            "bottom": null,
            "display": null,
            "flex": null,
            "flex_flow": null,
            "grid_area": null,
            "grid_auto_columns": null,
            "grid_auto_flow": null,
            "grid_auto_rows": null,
            "grid_column": null,
            "grid_gap": null,
            "grid_row": null,
            "grid_template_areas": null,
            "grid_template_columns": null,
            "grid_template_rows": null,
            "height": null,
            "justify_content": null,
            "justify_items": null,
            "left": null,
            "margin": null,
            "max_height": null,
            "max_width": null,
            "min_height": null,
            "min_width": null,
            "object_fit": null,
            "object_position": null,
            "order": null,
            "overflow": null,
            "overflow_x": null,
            "overflow_y": null,
            "padding": null,
            "right": null,
            "top": null,
            "visibility": null,
            "width": null
          }
        },
        "166dc21e96504f30bc1dca9feb0db627": {
          "model_module": "@jupyter-widgets/controls",
          "model_module_version": "1.5.0",
          "model_name": "DescriptionStyleModel",
          "state": {
            "_model_module": "@jupyter-widgets/controls",
            "_model_module_version": "1.5.0",
            "_model_name": "DescriptionStyleModel",
            "_view_count": null,
            "_view_module": "@jupyter-widgets/base",
            "_view_module_version": "1.2.0",
            "_view_name": "StyleView",
            "description_width": ""
          }
        },
        "1ae2d33e006948b59977e249cc2bec30": {
          "model_module": "@jupyter-widgets/base",
          "model_module_version": "1.2.0",
          "model_name": "LayoutModel",
          "state": {
            "_model_module": "@jupyter-widgets/base",
            "_model_module_version": "1.2.0",
            "_model_name": "LayoutModel",
            "_view_count": null,
            "_view_module": "@jupyter-widgets/base",
            "_view_module_version": "1.2.0",
            "_view_name": "LayoutView",
            "align_content": null,
            "align_items": null,
            "align_self": null,
            "border": null,
            "bottom": null,
            "display": null,
            "flex": null,
            "flex_flow": null,
            "grid_area": null,
            "grid_auto_columns": null,
            "grid_auto_flow": null,
            "grid_auto_rows": null,
            "grid_column": null,
            "grid_gap": null,
            "grid_row": null,
            "grid_template_areas": null,
            "grid_template_columns": null,
            "grid_template_rows": null,
            "height": null,
            "justify_content": null,
            "justify_items": null,
            "left": null,
            "margin": null,
            "max_height": null,
            "max_width": null,
            "min_height": null,
            "min_width": null,
            "object_fit": null,
            "object_position": null,
            "order": null,
            "overflow": null,
            "overflow_x": null,
            "overflow_y": null,
            "padding": null,
            "right": null,
            "top": null,
            "visibility": null,
            "width": null
          }
        },
        "1bed3c880ea6424184a3da3a7c84bfa6": {
          "model_module": "@jupyter-widgets/base",
          "model_module_version": "1.2.0",
          "model_name": "LayoutModel",
          "state": {
            "_model_module": "@jupyter-widgets/base",
            "_model_module_version": "1.2.0",
            "_model_name": "LayoutModel",
            "_view_count": null,
            "_view_module": "@jupyter-widgets/base",
            "_view_module_version": "1.2.0",
            "_view_name": "LayoutView",
            "align_content": null,
            "align_items": null,
            "align_self": null,
            "border": null,
            "bottom": null,
            "display": null,
            "flex": null,
            "flex_flow": null,
            "grid_area": null,
            "grid_auto_columns": null,
            "grid_auto_flow": null,
            "grid_auto_rows": null,
            "grid_column": null,
            "grid_gap": null,
            "grid_row": null,
            "grid_template_areas": null,
            "grid_template_columns": null,
            "grid_template_rows": null,
            "height": null,
            "justify_content": null,
            "justify_items": null,
            "left": null,
            "margin": null,
            "max_height": null,
            "max_width": null,
            "min_height": null,
            "min_width": null,
            "object_fit": null,
            "object_position": null,
            "order": null,
            "overflow": null,
            "overflow_x": null,
            "overflow_y": null,
            "padding": null,
            "right": null,
            "top": null,
            "visibility": null,
            "width": null
          }
        },
        "1ffd7658be304a4b811d993b96ae4b1b": {
          "model_module": "@jupyter-widgets/base",
          "model_module_version": "1.2.0",
          "model_name": "LayoutModel",
          "state": {
            "_model_module": "@jupyter-widgets/base",
            "_model_module_version": "1.2.0",
            "_model_name": "LayoutModel",
            "_view_count": null,
            "_view_module": "@jupyter-widgets/base",
            "_view_module_version": "1.2.0",
            "_view_name": "LayoutView",
            "align_content": null,
            "align_items": null,
            "align_self": null,
            "border": null,
            "bottom": null,
            "display": null,
            "flex": null,
            "flex_flow": null,
            "grid_area": null,
            "grid_auto_columns": null,
            "grid_auto_flow": null,
            "grid_auto_rows": null,
            "grid_column": null,
            "grid_gap": null,
            "grid_row": null,
            "grid_template_areas": null,
            "grid_template_columns": null,
            "grid_template_rows": null,
            "height": null,
            "justify_content": null,
            "justify_items": null,
            "left": null,
            "margin": null,
            "max_height": null,
            "max_width": null,
            "min_height": null,
            "min_width": null,
            "object_fit": null,
            "object_position": null,
            "order": null,
            "overflow": null,
            "overflow_x": null,
            "overflow_y": null,
            "padding": null,
            "right": null,
            "top": null,
            "visibility": null,
            "width": null
          }
        },
        "2b795dfa99c04b7997652657a91a5c98": {
          "model_module": "@jupyter-widgets/controls",
          "model_module_version": "1.5.0",
          "model_name": "FloatProgressModel",
          "state": {
            "_dom_classes": [],
            "_model_module": "@jupyter-widgets/controls",
            "_model_module_version": "1.5.0",
            "_model_name": "FloatProgressModel",
            "_view_count": null,
            "_view_module": "@jupyter-widgets/controls",
            "_view_module_version": "1.5.0",
            "_view_name": "ProgressView",
            "bar_style": "success",
            "description": "",
            "description_tooltip": null,
            "layout": "IPY_MODEL_38354648ce9349cc835955a6af99ff50",
            "max": 170498071,
            "min": 0,
            "orientation": "horizontal",
            "style": "IPY_MODEL_bf2120ef056b490ea2f5fbb4049d7530",
            "value": 170498071
          }
        },
        "38354648ce9349cc835955a6af99ff50": {
          "model_module": "@jupyter-widgets/base",
          "model_module_version": "1.2.0",
          "model_name": "LayoutModel",
          "state": {
            "_model_module": "@jupyter-widgets/base",
            "_model_module_version": "1.2.0",
            "_model_name": "LayoutModel",
            "_view_count": null,
            "_view_module": "@jupyter-widgets/base",
            "_view_module_version": "1.2.0",
            "_view_name": "LayoutView",
            "align_content": null,
            "align_items": null,
            "align_self": null,
            "border": null,
            "bottom": null,
            "display": null,
            "flex": null,
            "flex_flow": null,
            "grid_area": null,
            "grid_auto_columns": null,
            "grid_auto_flow": null,
            "grid_auto_rows": null,
            "grid_column": null,
            "grid_gap": null,
            "grid_row": null,
            "grid_template_areas": null,
            "grid_template_columns": null,
            "grid_template_rows": null,
            "height": null,
            "justify_content": null,
            "justify_items": null,
            "left": null,
            "margin": null,
            "max_height": null,
            "max_width": null,
            "min_height": null,
            "min_width": null,
            "object_fit": null,
            "object_position": null,
            "order": null,
            "overflow": null,
            "overflow_x": null,
            "overflow_y": null,
            "padding": null,
            "right": null,
            "top": null,
            "visibility": null,
            "width": null
          }
        },
        "3874ac7e6b0847b89b34d3b31ea1055f": {
          "model_module": "@jupyter-widgets/base",
          "model_module_version": "1.2.0",
          "model_name": "LayoutModel",
          "state": {
            "_model_module": "@jupyter-widgets/base",
            "_model_module_version": "1.2.0",
            "_model_name": "LayoutModel",
            "_view_count": null,
            "_view_module": "@jupyter-widgets/base",
            "_view_module_version": "1.2.0",
            "_view_name": "LayoutView",
            "align_content": null,
            "align_items": null,
            "align_self": null,
            "border": null,
            "bottom": null,
            "display": null,
            "flex": null,
            "flex_flow": null,
            "grid_area": null,
            "grid_auto_columns": null,
            "grid_auto_flow": null,
            "grid_auto_rows": null,
            "grid_column": null,
            "grid_gap": null,
            "grid_row": null,
            "grid_template_areas": null,
            "grid_template_columns": null,
            "grid_template_rows": null,
            "height": null,
            "justify_content": null,
            "justify_items": null,
            "left": null,
            "margin": null,
            "max_height": null,
            "max_width": null,
            "min_height": null,
            "min_width": null,
            "object_fit": null,
            "object_position": null,
            "order": null,
            "overflow": null,
            "overflow_x": null,
            "overflow_y": null,
            "padding": null,
            "right": null,
            "top": null,
            "visibility": null,
            "width": null
          }
        },
        "3e39a5cfda6a4498b6493ed4f7296118": {
          "model_module": "@jupyter-widgets/controls",
          "model_module_version": "1.5.0",
          "model_name": "HTMLModel",
          "state": {
            "_dom_classes": [],
            "_model_module": "@jupyter-widgets/controls",
            "_model_module_version": "1.5.0",
            "_model_name": "HTMLModel",
            "_view_count": null,
            "_view_module": "@jupyter-widgets/controls",
            "_view_module_version": "1.5.0",
            "_view_name": "HTMLView",
            "description": "",
            "description_tooltip": null,
            "layout": "IPY_MODEL_1ffd7658be304a4b811d993b96ae4b1b",
            "placeholder": "​",
            "style": "IPY_MODEL_f6ef72a357c74c35afaf750e3001fedf",
            "value": " 170499072/? [00:13&lt;00:00, 14016875.31it/s]"
          }
        },
        "4a7d2111880b4b5ba42b9f59ec270921": {
          "model_module": "@jupyter-widgets/controls",
          "model_module_version": "1.5.0",
          "model_name": "HTMLModel",
          "state": {
            "_dom_classes": [],
            "_model_module": "@jupyter-widgets/controls",
            "_model_module_version": "1.5.0",
            "_model_name": "HTMLModel",
            "_view_count": null,
            "_view_module": "@jupyter-widgets/controls",
            "_view_module_version": "1.5.0",
            "_view_name": "HTMLView",
            "description": "",
            "description_tooltip": null,
            "layout": "IPY_MODEL_1bed3c880ea6424184a3da3a7c84bfa6",
            "placeholder": "​",
            "style": "IPY_MODEL_eb28ce6c02d843ca91cd92199c9a8d92",
            "value": ""
          }
        },
        "4e3b88adac4b4ff89a883384e17504f1": {
          "model_module": "@jupyter-widgets/controls",
          "model_module_version": "1.5.0",
          "model_name": "ProgressStyleModel",
          "state": {
            "_model_module": "@jupyter-widgets/controls",
            "_model_module_version": "1.5.0",
            "_model_name": "ProgressStyleModel",
            "_view_count": null,
            "_view_module": "@jupyter-widgets/base",
            "_view_module_version": "1.2.0",
            "_view_name": "StyleView",
            "bar_color": null,
            "description_width": ""
          }
        },
        "87d3f1c29ac54857864930c9ece0b105": {
          "model_module": "@jupyter-widgets/controls",
          "model_module_version": "1.5.0",
          "model_name": "HTMLModel",
          "state": {
            "_dom_classes": [],
            "_model_module": "@jupyter-widgets/controls",
            "_model_module_version": "1.5.0",
            "_model_name": "HTMLModel",
            "_view_count": null,
            "_view_module": "@jupyter-widgets/controls",
            "_view_module_version": "1.5.0",
            "_view_name": "HTMLView",
            "description": "",
            "description_tooltip": null,
            "layout": "IPY_MODEL_1ae2d33e006948b59977e249cc2bec30",
            "placeholder": "​",
            "style": "IPY_MODEL_166dc21e96504f30bc1dca9feb0db627",
            "value": ""
          }
        },
        "a85a16910efd40998cc247eeaf0d0019": {
          "model_module": "@jupyter-widgets/controls",
          "model_module_version": "1.5.0",
          "model_name": "HTMLModel",
          "state": {
            "_dom_classes": [],
            "_model_module": "@jupyter-widgets/controls",
            "_model_module_version": "1.5.0",
            "_model_name": "HTMLModel",
            "_view_count": null,
            "_view_module": "@jupyter-widgets/controls",
            "_view_module_version": "1.5.0",
            "_view_name": "HTMLView",
            "description": "",
            "description_tooltip": null,
            "layout": "IPY_MODEL_3874ac7e6b0847b89b34d3b31ea1055f",
            "placeholder": "​",
            "style": "IPY_MODEL_f07c2b6c9bc94e2aa7c35d051b63a681",
            "value": " 170499072/? [00:13&lt;00:00, 14430253.41it/s]"
          }
        },
        "a949fce576d94f688a19a796cb1414ff": {
          "model_module": "@jupyter-widgets/base",
          "model_module_version": "1.2.0",
          "model_name": "LayoutModel",
          "state": {
            "_model_module": "@jupyter-widgets/base",
            "_model_module_version": "1.2.0",
            "_model_name": "LayoutModel",
            "_view_count": null,
            "_view_module": "@jupyter-widgets/base",
            "_view_module_version": "1.2.0",
            "_view_name": "LayoutView",
            "align_content": null,
            "align_items": null,
            "align_self": null,
            "border": null,
            "bottom": null,
            "display": null,
            "flex": null,
            "flex_flow": null,
            "grid_area": null,
            "grid_auto_columns": null,
            "grid_auto_flow": null,
            "grid_auto_rows": null,
            "grid_column": null,
            "grid_gap": null,
            "grid_row": null,
            "grid_template_areas": null,
            "grid_template_columns": null,
            "grid_template_rows": null,
            "height": null,
            "justify_content": null,
            "justify_items": null,
            "left": null,
            "margin": null,
            "max_height": null,
            "max_width": null,
            "min_height": null,
            "min_width": null,
            "object_fit": null,
            "object_position": null,
            "order": null,
            "overflow": null,
            "overflow_x": null,
            "overflow_y": null,
            "padding": null,
            "right": null,
            "top": null,
            "visibility": null,
            "width": null
          }
        },
        "bf2120ef056b490ea2f5fbb4049d7530": {
          "model_module": "@jupyter-widgets/controls",
          "model_module_version": "1.5.0",
          "model_name": "ProgressStyleModel",
          "state": {
            "_model_module": "@jupyter-widgets/controls",
            "_model_module_version": "1.5.0",
            "_model_name": "ProgressStyleModel",
            "_view_count": null,
            "_view_module": "@jupyter-widgets/base",
            "_view_module_version": "1.2.0",
            "_view_name": "StyleView",
            "bar_color": null,
            "description_width": ""
          }
        },
        "cf81c5c0a79b456a9532c7684b1c3623": {
          "model_module": "@jupyter-widgets/controls",
          "model_module_version": "1.5.0",
          "model_name": "HBoxModel",
          "state": {
            "_dom_classes": [],
            "_model_module": "@jupyter-widgets/controls",
            "_model_module_version": "1.5.0",
            "_model_name": "HBoxModel",
            "_view_count": null,
            "_view_module": "@jupyter-widgets/controls",
            "_view_module_version": "1.5.0",
            "_view_name": "HBoxView",
            "box_style": "",
            "children": [
              "IPY_MODEL_87d3f1c29ac54857864930c9ece0b105",
              "IPY_MODEL_2b795dfa99c04b7997652657a91a5c98",
              "IPY_MODEL_a85a16910efd40998cc247eeaf0d0019"
            ],
            "layout": "IPY_MODEL_126d37e365d04e358ab994982fbb67c7"
          }
        },
        "d668df1d065c41b9933f704694e56616": {
          "model_module": "@jupyter-widgets/controls",
          "model_module_version": "1.5.0",
          "model_name": "FloatProgressModel",
          "state": {
            "_dom_classes": [],
            "_model_module": "@jupyter-widgets/controls",
            "_model_module_version": "1.5.0",
            "_model_name": "FloatProgressModel",
            "_view_count": null,
            "_view_module": "@jupyter-widgets/controls",
            "_view_module_version": "1.5.0",
            "_view_name": "ProgressView",
            "bar_style": "success",
            "description": "",
            "description_tooltip": null,
            "layout": "IPY_MODEL_fb444ef3e0db4589a71551bd39556247",
            "max": 170498071,
            "min": 0,
            "orientation": "horizontal",
            "style": "IPY_MODEL_4e3b88adac4b4ff89a883384e17504f1",
            "value": 170498071
          }
        },
        "eb28ce6c02d843ca91cd92199c9a8d92": {
          "model_module": "@jupyter-widgets/controls",
          "model_module_version": "1.5.0",
          "model_name": "DescriptionStyleModel",
          "state": {
            "_model_module": "@jupyter-widgets/controls",
            "_model_module_version": "1.5.0",
            "_model_name": "DescriptionStyleModel",
            "_view_count": null,
            "_view_module": "@jupyter-widgets/base",
            "_view_module_version": "1.2.0",
            "_view_name": "StyleView",
            "description_width": ""
          }
        },
        "f07c2b6c9bc94e2aa7c35d051b63a681": {
          "model_module": "@jupyter-widgets/controls",
          "model_module_version": "1.5.0",
          "model_name": "DescriptionStyleModel",
          "state": {
            "_model_module": "@jupyter-widgets/controls",
            "_model_module_version": "1.5.0",
            "_model_name": "DescriptionStyleModel",
            "_view_count": null,
            "_view_module": "@jupyter-widgets/base",
            "_view_module_version": "1.2.0",
            "_view_name": "StyleView",
            "description_width": ""
          }
        },
        "f6ef72a357c74c35afaf750e3001fedf": {
          "model_module": "@jupyter-widgets/controls",
          "model_module_version": "1.5.0",
          "model_name": "DescriptionStyleModel",
          "state": {
            "_model_module": "@jupyter-widgets/controls",
            "_model_module_version": "1.5.0",
            "_model_name": "DescriptionStyleModel",
            "_view_count": null,
            "_view_module": "@jupyter-widgets/base",
            "_view_module_version": "1.2.0",
            "_view_name": "StyleView",
            "description_width": ""
          }
        },
        "fb444ef3e0db4589a71551bd39556247": {
          "model_module": "@jupyter-widgets/base",
          "model_module_version": "1.2.0",
          "model_name": "LayoutModel",
          "state": {
            "_model_module": "@jupyter-widgets/base",
            "_model_module_version": "1.2.0",
            "_model_name": "LayoutModel",
            "_view_count": null,
            "_view_module": "@jupyter-widgets/base",
            "_view_module_version": "1.2.0",
            "_view_name": "LayoutView",
            "align_content": null,
            "align_items": null,
            "align_self": null,
            "border": null,
            "bottom": null,
            "display": null,
            "flex": null,
            "flex_flow": null,
            "grid_area": null,
            "grid_auto_columns": null,
            "grid_auto_flow": null,
            "grid_auto_rows": null,
            "grid_column": null,
            "grid_gap": null,
            "grid_row": null,
            "grid_template_areas": null,
            "grid_template_columns": null,
            "grid_template_rows": null,
            "height": null,
            "justify_content": null,
            "justify_items": null,
            "left": null,
            "margin": null,
            "max_height": null,
            "max_width": null,
            "min_height": null,
            "min_width": null,
            "object_fit": null,
            "object_position": null,
            "order": null,
            "overflow": null,
            "overflow_x": null,
            "overflow_y": null,
            "padding": null,
            "right": null,
            "top": null,
            "visibility": null,
            "width": null
          }
        }
      }
    }
  },
  "nbformat": 4,
  "nbformat_minor": 0
}